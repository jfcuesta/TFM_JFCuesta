{
 "cells": [
  {
   "cell_type": "markdown",
   "metadata": {},
   "source": [
    "# Diseño de carteras de inversión"
   ]
  },
  {
   "cell_type": "markdown",
   "metadata": {},
   "source": [
    "El objetivo buscado en este notebook es analizar las posibilidades de diselar una cartera de inversión a partir de los resultados de los modelos de machine learning sobre el comportamiento bursatil de valores."
   ]
  },
  {
   "cell_type": "code",
   "execution_count": 1,
   "metadata": {},
   "outputs": [],
   "source": [
    "import pandas as pd\n",
    "import numpy as np\n",
    "import matplotlib.pyplot as plt\n",
    "import seaborn as sn\n",
    "from sklearn.metrics import confusion_matrix, classification_report\n",
    "\n",
    "import warnings\n",
    "warnings.filterwarnings(\"ignore\")"
   ]
  },
  {
   "cell_type": "code",
   "execution_count": 2,
   "metadata": {},
   "outputs": [],
   "source": [
    "df = pd.read_csv(\"../tablas/dataformodel.csv\", usecols=['Price_d', 'Price_d+180',\n",
    "                                                        'quantile_PER', 'var_quantile_PER',\n",
    "                                                        'quantile_PBC', 'var_quantile_PBC',\n",
    "                                                        'quantile_ROA',\n",
    "                                                        'quantile_Dot_dudosos', 'var_quantile_Dot_dudosos',\n",
    "                                                        'Etiqueta', 'Periodo','Ticker'])\n",
    "\n",
    "df=df.replace([np.inf, -np.inf], np.nan)\n",
    "for column in df.columns:\n",
    "    df=df[df[column].notnull()]\n",
    "df=df.reset_index(drop=True)"
   ]
  },
  {
   "cell_type": "markdown",
   "metadata": {},
   "source": [
    "## Preparación del modelo"
   ]
  },
  {
   "cell_type": "code",
   "execution_count": 3,
   "metadata": {},
   "outputs": [],
   "source": [
    "trim_seleccionado = '2018Q3'"
   ]
  },
  {
   "cell_type": "code",
   "execution_count": 4,
   "metadata": {},
   "outputs": [],
   "source": [
    "df_train = df[df.Periodo<trim_seleccionado]\n",
    "df_test = df[df.Periodo==trim_seleccionado]"
   ]
  },
  {
   "cell_type": "code",
   "execution_count": 5,
   "metadata": {},
   "outputs": [],
   "source": [
    "X_train=df_train[['quantile_PER', 'var_quantile_PER',\n",
    "                  'quantile_PBC', 'var_quantile_PBC',\n",
    "                  'quantile_ROA',\n",
    "                  'quantile_Dot_dudosos', 'var_quantile_Dot_dudosos']].values\n",
    "y_train=df_train['Etiqueta'].values"
   ]
  },
  {
   "cell_type": "code",
   "execution_count": 6,
   "metadata": {},
   "outputs": [
    {
     "data": {
      "text/plain": [
       "884"
      ]
     },
     "execution_count": 6,
     "metadata": {},
     "output_type": "execute_result"
    }
   ],
   "source": [
    "len(X_train)"
   ]
  },
  {
   "cell_type": "code",
   "execution_count": 7,
   "metadata": {},
   "outputs": [],
   "source": [
    "X_test=df_test[['quantile_PER', 'var_quantile_PER',\n",
    "                  'quantile_PBC', 'var_quantile_PBC',\n",
    "                  'quantile_ROA',\n",
    "                  'quantile_Dot_dudosos', 'var_quantile_Dot_dudosos']].values\n",
    "y_test=df_test['Etiqueta'].values"
   ]
  },
  {
   "cell_type": "code",
   "execution_count": 8,
   "metadata": {},
   "outputs": [],
   "source": [
    "from sklearn.model_selection import train_test_split\n",
    "from sklearn.model_selection import cross_val_score\n",
    "from sklearn.metrics import recall_score\n",
    "from sklearn.metrics import make_scorer"
   ]
  },
  {
   "cell_type": "markdown",
   "metadata": {},
   "source": [
    "### Kneighbors"
   ]
  },
  {
   "cell_type": "code",
   "execution_count": 9,
   "metadata": {
    "scrolled": true
   },
   "outputs": [
    {
     "data": {
      "text/plain": [
       "KNeighborsClassifier(algorithm='auto', leaf_size=30, metric='minkowski',\n",
       "                     metric_params=None, n_jobs=None, n_neighbors=5, p=2,\n",
       "                     weights='uniform')"
      ]
     },
     "execution_count": 9,
     "metadata": {},
     "output_type": "execute_result"
    }
   ],
   "source": [
    "# Load the library\n",
    "from sklearn.neighbors import KNeighborsClassifier\n",
    "# Create an instance of the classifier\n",
    "clfk=KNeighborsClassifier(n_neighbors=5)\n",
    "# Fit the data\n",
    "clfk.fit(X_train,y_train)"
   ]
  },
  {
   "cell_type": "code",
   "execution_count": 10,
   "metadata": {},
   "outputs": [],
   "source": [
    "from sklearn.model_selection import GridSearchCV"
   ]
  },
  {
   "cell_type": "code",
   "execution_count": 11,
   "metadata": {},
   "outputs": [
    {
     "data": {
      "text/plain": [
       "{'n_neighbors': 13}"
      ]
     },
     "execution_count": 11,
     "metadata": {},
     "output_type": "execute_result"
    }
   ],
   "source": [
    "knGrid = GridSearchCV(clfk,cv=5,scoring=\"accuracy\",param_grid={'n_neighbors':np.arange(1,20)})\n",
    "knGrid.fit(X_train,y_train)\n",
    "knGrid.best_params_"
   ]
  },
  {
   "cell_type": "code",
   "execution_count": 12,
   "metadata": {},
   "outputs": [],
   "source": [
    "best_param=knGrid.best_params_.get('n_neighbors')"
   ]
  },
  {
   "cell_type": "code",
   "execution_count": 13,
   "metadata": {},
   "outputs": [
    {
     "data": {
      "text/plain": [
       "KNeighborsClassifier(algorithm='auto', leaf_size=30, metric='minkowski',\n",
       "                     metric_params=None, n_jobs=None, n_neighbors=13, p=2,\n",
       "                     weights='uniform')"
      ]
     },
     "execution_count": 13,
     "metadata": {},
     "output_type": "execute_result"
    }
   ],
   "source": [
    "clfk=KNeighborsClassifier(n_neighbors=best_param)\n",
    "clfk.fit(X_train,y_train)"
   ]
  },
  {
   "cell_type": "code",
   "execution_count": 14,
   "metadata": {},
   "outputs": [
    {
     "data": {
      "text/plain": [
       "0.5146892655367232"
      ]
     },
     "execution_count": 14,
     "metadata": {},
     "output_type": "execute_result"
    }
   ],
   "source": [
    "cross_val_score(clfk,X_train,y_train,cv=5,scoring=\"accuracy\").mean()"
   ]
  },
  {
   "cell_type": "code",
   "execution_count": 15,
   "metadata": {},
   "outputs": [
    {
     "name": "stdout",
     "output_type": "stream",
     "text": [
      "              precision    recall  f1-score   support\n",
      "\n",
      "       Mejor       0.55      0.30      0.39        20\n",
      "        Peor       0.30      0.55      0.39        11\n",
      "\n",
      "    accuracy                           0.39        31\n",
      "   macro avg       0.42      0.42      0.39        31\n",
      "weighted avg       0.46      0.39      0.39        31\n",
      "\n"
     ]
    }
   ],
   "source": [
    "print(classification_report(y_test,clfk.predict(X_test)))"
   ]
  },
  {
   "cell_type": "code",
   "execution_count": 16,
   "metadata": {},
   "outputs": [
    {
     "data": {
      "text/plain": [
       "0.3870967741935484"
      ]
     },
     "execution_count": 16,
     "metadata": {},
     "output_type": "execute_result"
    }
   ],
   "source": [
    "clfk.score(X_test, y_test, sample_weight=None)"
   ]
  },
  {
   "cell_type": "markdown",
   "metadata": {},
   "source": [
    "Creamos un dataframe con la probabilidad asignada por el modelo a cada registro del grupo test"
   ]
  },
  {
   "cell_type": "code",
   "execution_count": 17,
   "metadata": {
    "scrolled": true
   },
   "outputs": [
    {
     "data": {
      "text/plain": [
       "31"
      ]
     },
     "execution_count": 17,
     "metadata": {},
     "output_type": "execute_result"
    }
   ],
   "source": [
    "df_prob=pd.DataFrame({'Probabilidad':clfk.predict_proba(X_test)[:,0],'Prediction':clfk.predict(X_test),'Actual':y_test})\n",
    "df_prob.index=df_test.index\n",
    "len(df_prob)"
   ]
  },
  {
   "cell_type": "markdown",
   "metadata": {},
   "source": [
    "Seleccionamos los 10 con mayor probabilidad de ser clasificados como 'Mejor' y los 10 con mayor probabilidad de clasificarse como 'Peor'"
   ]
  },
  {
   "cell_type": "code",
   "execution_count": 18,
   "metadata": {},
   "outputs": [],
   "source": [
    "best=df_prob.sort_values('Probabilidad').head(10)\n",
    "worst=df_prob.sort_values('Probabilidad').tail(10)\n",
    "cartera=best.append(worst)"
   ]
  },
  {
   "cell_type": "code",
   "execution_count": 19,
   "metadata": {},
   "outputs": [
    {
     "data": {
      "text/html": [
       "<div>\n",
       "<style scoped>\n",
       "    .dataframe tbody tr th:only-of-type {\n",
       "        vertical-align: middle;\n",
       "    }\n",
       "\n",
       "    .dataframe tbody tr th {\n",
       "        vertical-align: top;\n",
       "    }\n",
       "\n",
       "    .dataframe thead th {\n",
       "        text-align: right;\n",
       "    }\n",
       "</style>\n",
       "<table border=\"1\" class=\"dataframe\">\n",
       "  <thead>\n",
       "    <tr style=\"text-align: right;\">\n",
       "      <th></th>\n",
       "      <th>Probabilidad</th>\n",
       "      <th>Prediction</th>\n",
       "      <th>Actual</th>\n",
       "    </tr>\n",
       "  </thead>\n",
       "  <tbody>\n",
       "    <tr>\n",
       "      <th>886</th>\n",
       "      <td>0.076923</td>\n",
       "      <td>Peor</td>\n",
       "      <td>Peor</td>\n",
       "    </tr>\n",
       "    <tr>\n",
       "      <th>57</th>\n",
       "      <td>0.230769</td>\n",
       "      <td>Peor</td>\n",
       "      <td>Mejor</td>\n",
       "    </tr>\n",
       "    <tr>\n",
       "      <th>393</th>\n",
       "      <td>0.230769</td>\n",
       "      <td>Peor</td>\n",
       "      <td>Mejor</td>\n",
       "    </tr>\n",
       "    <tr>\n",
       "      <th>199</th>\n",
       "      <td>0.307692</td>\n",
       "      <td>Peor</td>\n",
       "      <td>Peor</td>\n",
       "    </tr>\n",
       "    <tr>\n",
       "      <th>683</th>\n",
       "      <td>0.307692</td>\n",
       "      <td>Peor</td>\n",
       "      <td>Mejor</td>\n",
       "    </tr>\n",
       "    <tr>\n",
       "      <th>625</th>\n",
       "      <td>0.307692</td>\n",
       "      <td>Peor</td>\n",
       "      <td>Mejor</td>\n",
       "    </tr>\n",
       "    <tr>\n",
       "      <th>335</th>\n",
       "      <td>0.307692</td>\n",
       "      <td>Peor</td>\n",
       "      <td>Mejor</td>\n",
       "    </tr>\n",
       "    <tr>\n",
       "      <th>915</th>\n",
       "      <td>0.384615</td>\n",
       "      <td>Peor</td>\n",
       "      <td>Peor</td>\n",
       "    </tr>\n",
       "    <tr>\n",
       "      <th>828</th>\n",
       "      <td>0.384615</td>\n",
       "      <td>Peor</td>\n",
       "      <td>Mejor</td>\n",
       "    </tr>\n",
       "    <tr>\n",
       "      <th>596</th>\n",
       "      <td>0.384615</td>\n",
       "      <td>Peor</td>\n",
       "      <td>Mejor</td>\n",
       "    </tr>\n",
       "    <tr>\n",
       "      <th>228</th>\n",
       "      <td>0.538462</td>\n",
       "      <td>Mejor</td>\n",
       "      <td>Mejor</td>\n",
       "    </tr>\n",
       "    <tr>\n",
       "      <th>741</th>\n",
       "      <td>0.538462</td>\n",
       "      <td>Mejor</td>\n",
       "      <td>Mejor</td>\n",
       "    </tr>\n",
       "    <tr>\n",
       "      <th>422</th>\n",
       "      <td>0.615385</td>\n",
       "      <td>Mejor</td>\n",
       "      <td>Peor</td>\n",
       "    </tr>\n",
       "    <tr>\n",
       "      <th>306</th>\n",
       "      <td>0.615385</td>\n",
       "      <td>Mejor</td>\n",
       "      <td>Mejor</td>\n",
       "    </tr>\n",
       "    <tr>\n",
       "      <th>170</th>\n",
       "      <td>0.615385</td>\n",
       "      <td>Mejor</td>\n",
       "      <td>Mejor</td>\n",
       "    </tr>\n",
       "    <tr>\n",
       "      <th>770</th>\n",
       "      <td>0.692308</td>\n",
       "      <td>Mejor</td>\n",
       "      <td>Mejor</td>\n",
       "    </tr>\n",
       "    <tr>\n",
       "      <th>141</th>\n",
       "      <td>0.692308</td>\n",
       "      <td>Mejor</td>\n",
       "      <td>Peor</td>\n",
       "    </tr>\n",
       "    <tr>\n",
       "      <th>257</th>\n",
       "      <td>0.769231</td>\n",
       "      <td>Mejor</td>\n",
       "      <td>Peor</td>\n",
       "    </tr>\n",
       "    <tr>\n",
       "      <th>538</th>\n",
       "      <td>0.846154</td>\n",
       "      <td>Mejor</td>\n",
       "      <td>Peor</td>\n",
       "    </tr>\n",
       "    <tr>\n",
       "      <th>451</th>\n",
       "      <td>0.846154</td>\n",
       "      <td>Mejor</td>\n",
       "      <td>Mejor</td>\n",
       "    </tr>\n",
       "  </tbody>\n",
       "</table>\n",
       "</div>"
      ],
      "text/plain": [
       "     Probabilidad Prediction Actual\n",
       "886      0.076923       Peor   Peor\n",
       "57       0.230769       Peor  Mejor\n",
       "393      0.230769       Peor  Mejor\n",
       "199      0.307692       Peor   Peor\n",
       "683      0.307692       Peor  Mejor\n",
       "625      0.307692       Peor  Mejor\n",
       "335      0.307692       Peor  Mejor\n",
       "915      0.384615       Peor   Peor\n",
       "828      0.384615       Peor  Mejor\n",
       "596      0.384615       Peor  Mejor\n",
       "228      0.538462      Mejor  Mejor\n",
       "741      0.538462      Mejor  Mejor\n",
       "422      0.615385      Mejor   Peor\n",
       "306      0.615385      Mejor  Mejor\n",
       "170      0.615385      Mejor  Mejor\n",
       "770      0.692308      Mejor  Mejor\n",
       "141      0.692308      Mejor   Peor\n",
       "257      0.769231      Mejor   Peor\n",
       "538      0.846154      Mejor   Peor\n",
       "451      0.846154      Mejor  Mejor"
      ]
     },
     "execution_count": 19,
     "metadata": {},
     "output_type": "execute_result"
    }
   ],
   "source": [
    "cartera"
   ]
  },
  {
   "cell_type": "markdown",
   "metadata": {},
   "source": [
    "Evaluación de la cartera seleccionada"
   ]
  },
  {
   "cell_type": "code",
   "execution_count": 20,
   "metadata": {},
   "outputs": [],
   "source": [
    "def resultado(row):   \n",
    "    if row['Prediction']=='Mejor' and row['Actual']=='Mejor':\n",
    "        return 'True positive'\n",
    "    elif row['Prediction']=='Peor' and row['Actual']=='Peor':\n",
    "        return 'True negative'\n",
    "    elif row['Prediction']=='Peor' and row['Actual']=='Mejor':\n",
    "        return 'False negative'\n",
    "    else:\n",
    "        return 'False positive'"
   ]
  },
  {
   "cell_type": "code",
   "execution_count": 21,
   "metadata": {},
   "outputs": [
    {
     "data": {
      "text/html": [
       "<div>\n",
       "<style scoped>\n",
       "    .dataframe tbody tr th:only-of-type {\n",
       "        vertical-align: middle;\n",
       "    }\n",
       "\n",
       "    .dataframe tbody tr th {\n",
       "        vertical-align: top;\n",
       "    }\n",
       "\n",
       "    .dataframe thead th {\n",
       "        text-align: right;\n",
       "    }\n",
       "</style>\n",
       "<table border=\"1\" class=\"dataframe\">\n",
       "  <thead>\n",
       "    <tr style=\"text-align: right;\">\n",
       "      <th></th>\n",
       "      <th>Probabilidad</th>\n",
       "      <th>Prediction</th>\n",
       "      <th>Actual</th>\n",
       "    </tr>\n",
       "    <tr>\n",
       "      <th>Resultado</th>\n",
       "      <th></th>\n",
       "      <th></th>\n",
       "      <th></th>\n",
       "    </tr>\n",
       "  </thead>\n",
       "  <tbody>\n",
       "    <tr>\n",
       "      <th>False negative</th>\n",
       "      <td>7</td>\n",
       "      <td>7</td>\n",
       "      <td>7</td>\n",
       "    </tr>\n",
       "    <tr>\n",
       "      <th>False positive</th>\n",
       "      <td>4</td>\n",
       "      <td>4</td>\n",
       "      <td>4</td>\n",
       "    </tr>\n",
       "    <tr>\n",
       "      <th>True negative</th>\n",
       "      <td>3</td>\n",
       "      <td>3</td>\n",
       "      <td>3</td>\n",
       "    </tr>\n",
       "    <tr>\n",
       "      <th>True positive</th>\n",
       "      <td>6</td>\n",
       "      <td>6</td>\n",
       "      <td>6</td>\n",
       "    </tr>\n",
       "  </tbody>\n",
       "</table>\n",
       "</div>"
      ],
      "text/plain": [
       "                Probabilidad  Prediction  Actual\n",
       "Resultado                                       \n",
       "False negative             7           7       7\n",
       "False positive             4           4       4\n",
       "True negative              3           3       3\n",
       "True positive              6           6       6"
      ]
     },
     "execution_count": 21,
     "metadata": {},
     "output_type": "execute_result"
    }
   ],
   "source": [
    "cartera['Resultado']=cartera.apply(resultado,axis=1)\n",
    "cartera.groupby('Resultado').count()"
   ]
  },
  {
   "cell_type": "markdown",
   "metadata": {},
   "source": [
    "Cálculo de posibles ganancias/pérdidas"
   ]
  },
  {
   "cell_type": "code",
   "execution_count": 22,
   "metadata": {},
   "outputs": [],
   "source": [
    "#Volcamos los precios de cada valor de nuestra cartera\n",
    "\n",
    "cartera = cartera.join(df_test)\n",
    "\n",
    "#df_valores.drop(['Precio'], axis=1, inplace=True)\n",
    "\n",
    "#df_valores.rename(columns={'Price_b100':'Price_d+180_100'}, inplace=True)"
   ]
  },
  {
   "cell_type": "code",
   "execution_count": 23,
   "metadata": {},
   "outputs": [
    {
     "data": {
      "text/html": [
       "<div>\n",
       "<style scoped>\n",
       "    .dataframe tbody tr th:only-of-type {\n",
       "        vertical-align: middle;\n",
       "    }\n",
       "\n",
       "    .dataframe tbody tr th {\n",
       "        vertical-align: top;\n",
       "    }\n",
       "\n",
       "    .dataframe thead th {\n",
       "        text-align: right;\n",
       "    }\n",
       "</style>\n",
       "<table border=\"1\" class=\"dataframe\">\n",
       "  <thead>\n",
       "    <tr style=\"text-align: right;\">\n",
       "      <th></th>\n",
       "      <th>Prediction</th>\n",
       "      <th>Price_d</th>\n",
       "      <th>Price_d+180</th>\n",
       "    </tr>\n",
       "  </thead>\n",
       "  <tbody>\n",
       "    <tr>\n",
       "      <th>886</th>\n",
       "      <td>Peor</td>\n",
       "      <td>49.55</td>\n",
       "      <td>45.79</td>\n",
       "    </tr>\n",
       "    <tr>\n",
       "      <th>57</th>\n",
       "      <td>Peor</td>\n",
       "      <td>87.19</td>\n",
       "      <td>99.38</td>\n",
       "    </tr>\n",
       "    <tr>\n",
       "      <th>393</th>\n",
       "      <td>Peor</td>\n",
       "      <td>103.92</td>\n",
       "      <td>112.44</td>\n",
       "    </tr>\n",
       "    <tr>\n",
       "      <th>199</th>\n",
       "      <td>Peor</td>\n",
       "      <td>35.69</td>\n",
       "      <td>33.95</td>\n",
       "    </tr>\n",
       "    <tr>\n",
       "      <th>683</th>\n",
       "      <td>Peor</td>\n",
       "      <td>247.36</td>\n",
       "      <td>250.57</td>\n",
       "    </tr>\n",
       "    <tr>\n",
       "      <th>625</th>\n",
       "      <td>Peor</td>\n",
       "      <td>123.26</td>\n",
       "      <td>132.06</td>\n",
       "    </tr>\n",
       "    <tr>\n",
       "      <th>335</th>\n",
       "      <td>Peor</td>\n",
       "      <td>73.58</td>\n",
       "      <td>79.31</td>\n",
       "    </tr>\n",
       "    <tr>\n",
       "      <th>915</th>\n",
       "      <td>Peor</td>\n",
       "      <td>38.87</td>\n",
       "      <td>38.31</td>\n",
       "    </tr>\n",
       "    <tr>\n",
       "      <th>828</th>\n",
       "      <td>Peor</td>\n",
       "      <td>61.09</td>\n",
       "      <td>68.24</td>\n",
       "    </tr>\n",
       "    <tr>\n",
       "      <th>596</th>\n",
       "      <td>Peor</td>\n",
       "      <td>27.20</td>\n",
       "      <td>28.58</td>\n",
       "    </tr>\n",
       "    <tr>\n",
       "      <th>228</th>\n",
       "      <td>Mejor</td>\n",
       "      <td>11.46</td>\n",
       "      <td>11.61</td>\n",
       "    </tr>\n",
       "    <tr>\n",
       "      <th>741</th>\n",
       "      <td>Mejor</td>\n",
       "      <td>37.68</td>\n",
       "      <td>38.48</td>\n",
       "    </tr>\n",
       "    <tr>\n",
       "      <th>422</th>\n",
       "      <td>Mejor</td>\n",
       "      <td>17.03</td>\n",
       "      <td>16.57</td>\n",
       "    </tr>\n",
       "    <tr>\n",
       "      <th>306</th>\n",
       "      <td>Mejor</td>\n",
       "      <td>40.15</td>\n",
       "      <td>41.22</td>\n",
       "    </tr>\n",
       "    <tr>\n",
       "      <th>170</th>\n",
       "      <td>Mejor</td>\n",
       "      <td>26.35</td>\n",
       "      <td>27.78</td>\n",
       "    </tr>\n",
       "    <tr>\n",
       "      <th>770</th>\n",
       "      <td>Mejor</td>\n",
       "      <td>59.99</td>\n",
       "      <td>63.20</td>\n",
       "    </tr>\n",
       "    <tr>\n",
       "      <th>141</th>\n",
       "      <td>Mejor</td>\n",
       "      <td>52.82</td>\n",
       "      <td>51.19</td>\n",
       "    </tr>\n",
       "    <tr>\n",
       "      <th>257</th>\n",
       "      <td>Mejor</td>\n",
       "      <td>13.13</td>\n",
       "      <td>13.09</td>\n",
       "    </tr>\n",
       "    <tr>\n",
       "      <th>538</th>\n",
       "      <td>Mejor</td>\n",
       "      <td>37.33</td>\n",
       "      <td>37.20</td>\n",
       "    </tr>\n",
       "    <tr>\n",
       "      <th>451</th>\n",
       "      <td>Mejor</td>\n",
       "      <td>22.91</td>\n",
       "      <td>22.74</td>\n",
       "    </tr>\n",
       "  </tbody>\n",
       "</table>\n",
       "</div>"
      ],
      "text/plain": [
       "    Prediction  Price_d  Price_d+180\n",
       "886       Peor    49.55        45.79\n",
       "57        Peor    87.19        99.38\n",
       "393       Peor   103.92       112.44\n",
       "199       Peor    35.69        33.95\n",
       "683       Peor   247.36       250.57\n",
       "625       Peor   123.26       132.06\n",
       "335       Peor    73.58        79.31\n",
       "915       Peor    38.87        38.31\n",
       "828       Peor    61.09        68.24\n",
       "596       Peor    27.20        28.58\n",
       "228      Mejor    11.46        11.61\n",
       "741      Mejor    37.68        38.48\n",
       "422      Mejor    17.03        16.57\n",
       "306      Mejor    40.15        41.22\n",
       "170      Mejor    26.35        27.78\n",
       "770      Mejor    59.99        63.20\n",
       "141      Mejor    52.82        51.19\n",
       "257      Mejor    13.13        13.09\n",
       "538      Mejor    37.33        37.20\n",
       "451      Mejor    22.91        22.74"
      ]
     },
     "execution_count": 23,
     "metadata": {},
     "output_type": "execute_result"
    }
   ],
   "source": [
    "res_cartera=cartera[['Prediction','Price_d','Price_d+180']]\n",
    "res_cartera"
   ]
  },
  {
   "cell_type": "code",
   "execution_count": 24,
   "metadata": {},
   "outputs": [],
   "source": [
    "def resultado(row):\n",
    "    if row['Prediction'] == 'Peor':\n",
    "        return (row['Price_d'] - row['Price_d+180'])/row['Price_d']\n",
    "    else:\n",
    "        return (row['Price_d+180'] - row['Price_d'])/row['Price_d']"
   ]
  },
  {
   "cell_type": "code",
   "execution_count": 25,
   "metadata": {},
   "outputs": [],
   "source": [
    "inversion = 1000\n",
    "res_cartera['Resultado']=res_cartera.apply(resultado,axis=1)*inversion"
   ]
  },
  {
   "cell_type": "code",
   "execution_count": 26,
   "metadata": {},
   "outputs": [
    {
     "data": {
      "text/html": [
       "<div>\n",
       "<style scoped>\n",
       "    .dataframe tbody tr th:only-of-type {\n",
       "        vertical-align: middle;\n",
       "    }\n",
       "\n",
       "    .dataframe tbody tr th {\n",
       "        vertical-align: top;\n",
       "    }\n",
       "\n",
       "    .dataframe thead th {\n",
       "        text-align: right;\n",
       "    }\n",
       "</style>\n",
       "<table border=\"1\" class=\"dataframe\">\n",
       "  <thead>\n",
       "    <tr style=\"text-align: right;\">\n",
       "      <th></th>\n",
       "      <th>Prediction</th>\n",
       "      <th>Price_d</th>\n",
       "      <th>Price_d+180</th>\n",
       "      <th>Resultado</th>\n",
       "    </tr>\n",
       "  </thead>\n",
       "  <tbody>\n",
       "    <tr>\n",
       "      <th>886</th>\n",
       "      <td>Peor</td>\n",
       "      <td>49.55</td>\n",
       "      <td>45.79</td>\n",
       "      <td>75.882947</td>\n",
       "    </tr>\n",
       "    <tr>\n",
       "      <th>57</th>\n",
       "      <td>Peor</td>\n",
       "      <td>87.19</td>\n",
       "      <td>99.38</td>\n",
       "      <td>-139.809611</td>\n",
       "    </tr>\n",
       "    <tr>\n",
       "      <th>393</th>\n",
       "      <td>Peor</td>\n",
       "      <td>103.92</td>\n",
       "      <td>112.44</td>\n",
       "      <td>-81.986143</td>\n",
       "    </tr>\n",
       "    <tr>\n",
       "      <th>199</th>\n",
       "      <td>Peor</td>\n",
       "      <td>35.69</td>\n",
       "      <td>33.95</td>\n",
       "      <td>48.753152</td>\n",
       "    </tr>\n",
       "    <tr>\n",
       "      <th>683</th>\n",
       "      <td>Peor</td>\n",
       "      <td>247.36</td>\n",
       "      <td>250.57</td>\n",
       "      <td>-12.977038</td>\n",
       "    </tr>\n",
       "    <tr>\n",
       "      <th>625</th>\n",
       "      <td>Peor</td>\n",
       "      <td>123.26</td>\n",
       "      <td>132.06</td>\n",
       "      <td>-71.393802</td>\n",
       "    </tr>\n",
       "    <tr>\n",
       "      <th>335</th>\n",
       "      <td>Peor</td>\n",
       "      <td>73.58</td>\n",
       "      <td>79.31</td>\n",
       "      <td>-77.874422</td>\n",
       "    </tr>\n",
       "    <tr>\n",
       "      <th>915</th>\n",
       "      <td>Peor</td>\n",
       "      <td>38.87</td>\n",
       "      <td>38.31</td>\n",
       "      <td>14.406998</td>\n",
       "    </tr>\n",
       "    <tr>\n",
       "      <th>828</th>\n",
       "      <td>Peor</td>\n",
       "      <td>61.09</td>\n",
       "      <td>68.24</td>\n",
       "      <td>-117.040432</td>\n",
       "    </tr>\n",
       "    <tr>\n",
       "      <th>596</th>\n",
       "      <td>Peor</td>\n",
       "      <td>27.20</td>\n",
       "      <td>28.58</td>\n",
       "      <td>-50.735294</td>\n",
       "    </tr>\n",
       "    <tr>\n",
       "      <th>228</th>\n",
       "      <td>Mejor</td>\n",
       "      <td>11.46</td>\n",
       "      <td>11.61</td>\n",
       "      <td>13.089005</td>\n",
       "    </tr>\n",
       "    <tr>\n",
       "      <th>741</th>\n",
       "      <td>Mejor</td>\n",
       "      <td>37.68</td>\n",
       "      <td>38.48</td>\n",
       "      <td>21.231423</td>\n",
       "    </tr>\n",
       "    <tr>\n",
       "      <th>422</th>\n",
       "      <td>Mejor</td>\n",
       "      <td>17.03</td>\n",
       "      <td>16.57</td>\n",
       "      <td>-27.011157</td>\n",
       "    </tr>\n",
       "    <tr>\n",
       "      <th>306</th>\n",
       "      <td>Mejor</td>\n",
       "      <td>40.15</td>\n",
       "      <td>41.22</td>\n",
       "      <td>26.650062</td>\n",
       "    </tr>\n",
       "    <tr>\n",
       "      <th>170</th>\n",
       "      <td>Mejor</td>\n",
       "      <td>26.35</td>\n",
       "      <td>27.78</td>\n",
       "      <td>54.269450</td>\n",
       "    </tr>\n",
       "    <tr>\n",
       "      <th>770</th>\n",
       "      <td>Mejor</td>\n",
       "      <td>59.99</td>\n",
       "      <td>63.20</td>\n",
       "      <td>53.508918</td>\n",
       "    </tr>\n",
       "    <tr>\n",
       "      <th>141</th>\n",
       "      <td>Mejor</td>\n",
       "      <td>52.82</td>\n",
       "      <td>51.19</td>\n",
       "      <td>-30.859523</td>\n",
       "    </tr>\n",
       "    <tr>\n",
       "      <th>257</th>\n",
       "      <td>Mejor</td>\n",
       "      <td>13.13</td>\n",
       "      <td>13.09</td>\n",
       "      <td>-3.046458</td>\n",
       "    </tr>\n",
       "    <tr>\n",
       "      <th>538</th>\n",
       "      <td>Mejor</td>\n",
       "      <td>37.33</td>\n",
       "      <td>37.20</td>\n",
       "      <td>-3.482454</td>\n",
       "    </tr>\n",
       "    <tr>\n",
       "      <th>451</th>\n",
       "      <td>Mejor</td>\n",
       "      <td>22.91</td>\n",
       "      <td>22.74</td>\n",
       "      <td>-7.420340</td>\n",
       "    </tr>\n",
       "  </tbody>\n",
       "</table>\n",
       "</div>"
      ],
      "text/plain": [
       "    Prediction  Price_d  Price_d+180   Resultado\n",
       "886       Peor    49.55        45.79   75.882947\n",
       "57        Peor    87.19        99.38 -139.809611\n",
       "393       Peor   103.92       112.44  -81.986143\n",
       "199       Peor    35.69        33.95   48.753152\n",
       "683       Peor   247.36       250.57  -12.977038\n",
       "625       Peor   123.26       132.06  -71.393802\n",
       "335       Peor    73.58        79.31  -77.874422\n",
       "915       Peor    38.87        38.31   14.406998\n",
       "828       Peor    61.09        68.24 -117.040432\n",
       "596       Peor    27.20        28.58  -50.735294\n",
       "228      Mejor    11.46        11.61   13.089005\n",
       "741      Mejor    37.68        38.48   21.231423\n",
       "422      Mejor    17.03        16.57  -27.011157\n",
       "306      Mejor    40.15        41.22   26.650062\n",
       "170      Mejor    26.35        27.78   54.269450\n",
       "770      Mejor    59.99        63.20   53.508918\n",
       "141      Mejor    52.82        51.19  -30.859523\n",
       "257      Mejor    13.13        13.09   -3.046458\n",
       "538      Mejor    37.33        37.20   -3.482454\n",
       "451      Mejor    22.91        22.74   -7.420340"
      ]
     },
     "execution_count": 26,
     "metadata": {},
     "output_type": "execute_result"
    }
   ],
   "source": [
    "res_cartera"
   ]
  },
  {
   "cell_type": "code",
   "execution_count": 27,
   "metadata": {},
   "outputs": [
    {
     "data": {
      "text/plain": [
       "-315.8447204942669"
      ]
     },
     "execution_count": 27,
     "metadata": {},
     "output_type": "execute_result"
    }
   ],
   "source": [
    "res_cartera.Resultado.sum()"
   ]
  },
  {
   "cell_type": "code",
   "execution_count": null,
   "metadata": {},
   "outputs": [],
   "source": []
  }
 ],
 "metadata": {
  "kernelspec": {
   "display_name": "Python 3",
   "language": "python",
   "name": "python3"
  },
  "language_info": {
   "codemirror_mode": {
    "name": "ipython",
    "version": 3
   },
   "file_extension": ".py",
   "mimetype": "text/x-python",
   "name": "python",
   "nbconvert_exporter": "python",
   "pygments_lexer": "ipython3",
   "version": "3.7.6"
  }
 },
 "nbformat": 4,
 "nbformat_minor": 4
}
