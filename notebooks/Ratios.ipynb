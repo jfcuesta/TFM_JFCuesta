{
 "cells": [
  {
   "cell_type": "markdown",
   "metadata": {},
   "source": [
    "# Cálculo de ratios"
   ]
  },
  {
   "cell_type": "markdown",
   "metadata": {},
   "source": [
    "Cálculo de los ratios financieros a partir de la información contable y bursátil disponible, que utilizaremos como variables explicativas del modelo"
   ]
  },
  {
   "cell_type": "code",
   "execution_count": 1,
   "metadata": {},
   "outputs": [],
   "source": [
    "import pandas as pd\n",
    "import numpy as np\n",
    "import matplotlib.pyplot as plt"
   ]
  },
  {
   "cell_type": "code",
   "execution_count": 2,
   "metadata": {},
   "outputs": [
    {
     "name": "stdout",
     "output_type": "stream",
     "text": [
      "total 12084\r\n",
      "-rw-rw-r-- 1 1000 1000 9992731 jul  9 23:37 banks_cotiz.csv\r\n",
      "-rw-rw-r-- 1 1000 1000 1111021 ago  9 00:38 dataformodel.csv\r\n",
      "-rw-rw-r-- 1 1000 1000  578247 jul  9 23:37 mergedbalres.csv\r\n",
      "-rw-rw-r-- 1 1000 1000  683261 jul 21 00:03 registros_etiq.csv\r\n"
     ]
    }
   ],
   "source": [
    "! ls -n ../tablas"
   ]
  },
  {
   "cell_type": "code",
   "execution_count": 3,
   "metadata": {},
   "outputs": [],
   "source": [
    "data = pd.read_csv('../tablas/registros_etiq.csv')"
   ]
  },
  {
   "cell_type": "code",
   "execution_count": 4,
   "metadata": {
    "scrolled": true
   },
   "outputs": [
    {
     "data": {
      "text/plain": [
       "1541"
      ]
     },
     "execution_count": 4,
     "metadata": {},
     "output_type": "execute_result"
    }
   ],
   "source": [
    "len(data)"
   ]
  },
  {
   "cell_type": "code",
   "execution_count": 5,
   "metadata": {},
   "outputs": [
    {
     "data": {
      "text/plain": [
       "['Ticker',\n",
       " 'SimFinId',\n",
       " 'Currency',\n",
       " 'Fiscal Year',\n",
       " 'Fiscal Period',\n",
       " 'Report Date',\n",
       " 'Publish Date',\n",
       " 'Restated Date',\n",
       " 'Shares (Basic)',\n",
       " 'Shares (Diluted)',\n",
       " 'Cash, Cash Equivalents & Short Term Investments',\n",
       " 'Interbank Assets',\n",
       " 'Short & Long Term Investments',\n",
       " 'Accounts & Notes Receivable',\n",
       " 'Net Loans',\n",
       " 'Net Fixed Assets',\n",
       " 'Total Assets',\n",
       " 'Total Deposits',\n",
       " 'Short Term Debt',\n",
       " 'Long Term Debt',\n",
       " 'Total Liabilities',\n",
       " 'Preferred Equity',\n",
       " 'Share Capital & Additional Paid-In Capital',\n",
       " 'Treasury Stock',\n",
       " 'Retained Earnings',\n",
       " 'Total Equity',\n",
       " 'Total Liabilities & Equity',\n",
       " 'Revenue',\n",
       " 'Provision for Loan Losses',\n",
       " 'Net Revenue after Provisions',\n",
       " 'Total Non-Interest Expense',\n",
       " 'Operating Income (Loss)',\n",
       " 'Non-Operating Income (Loss)',\n",
       " 'Pretax Income (Loss)',\n",
       " 'Income Tax (Expense) Benefit, Net',\n",
       " 'Income (Loss) from Continuing Operations',\n",
       " 'Net Extraordinary Gains (Losses)',\n",
       " 'Net Income',\n",
       " 'Net Income (Common)',\n",
       " 'Price_d',\n",
       " 'Publish_Date+90',\n",
       " 'Price_d+90',\n",
       " 'DJUSF_d',\n",
       " 'DJUSF_d+90',\n",
       " 'Var_cotiz',\n",
       " 'Var_index',\n",
       " 'Etiqueta']"
      ]
     },
     "execution_count": 5,
     "metadata": {},
     "output_type": "execute_result"
    }
   ],
   "source": [
    "list(data.columns)"
   ]
  },
  {
   "cell_type": "markdown",
   "metadata": {},
   "source": [
    "### Capitalización bursátil"
   ]
  },
  {
   "cell_type": "code",
   "execution_count": 6,
   "metadata": {},
   "outputs": [],
   "source": [
    "data['Capit']=data['Shares (Basic)']*data['Price_d']"
   ]
  },
  {
   "cell_type": "code",
   "execution_count": 7,
   "metadata": {},
   "outputs": [
    {
     "data": {
      "text/plain": [
       "58"
      ]
     },
     "execution_count": 7,
     "metadata": {},
     "output_type": "execute_result"
    }
   ],
   "source": [
    "len(data[data['Capit'].isnull()])"
   ]
  },
  {
   "cell_type": "markdown",
   "metadata": {},
   "source": [
    "### PER"
   ]
  },
  {
   "cell_type": "code",
   "execution_count": 8,
   "metadata": {},
   "outputs": [
    {
     "data": {
      "text/plain": [
       "58"
      ]
     },
     "execution_count": 8,
     "metadata": {},
     "output_type": "execute_result"
    }
   ],
   "source": [
    "data['PER'] = data['Net Income (Common)']/data['Capit']\n",
    "len(data[data['PER'].isnull()])"
   ]
  },
  {
   "cell_type": "markdown",
   "metadata": {},
   "source": [
    "### Price / Book Value"
   ]
  },
  {
   "cell_type": "code",
   "execution_count": 9,
   "metadata": {},
   "outputs": [
    {
     "data": {
      "text/plain": [
       "58"
      ]
     },
     "execution_count": 9,
     "metadata": {},
     "output_type": "execute_result"
    }
   ],
   "source": [
    "data['PBC'] = data['Capit']/data['Total Equity']\n",
    "len(data[data['PBC'].isnull()])"
   ]
  },
  {
   "cell_type": "markdown",
   "metadata": {},
   "source": [
    "### Rentabilidad por dividendo"
   ]
  },
  {
   "cell_type": "code",
   "execution_count": null,
   "metadata": {},
   "outputs": [],
   "source": []
  },
  {
   "cell_type": "markdown",
   "metadata": {},
   "source": [
    "### ROE"
   ]
  },
  {
   "cell_type": "code",
   "execution_count": 10,
   "metadata": {},
   "outputs": [
    {
     "data": {
      "text/plain": [
       "0"
      ]
     },
     "execution_count": 10,
     "metadata": {},
     "output_type": "execute_result"
    }
   ],
   "source": [
    "data['ROE'] = data['Net Income (Common)']/data['Total Equity']\n",
    "len(data[data['ROE'].isnull()])"
   ]
  },
  {
   "cell_type": "markdown",
   "metadata": {},
   "source": [
    "### ROA"
   ]
  },
  {
   "cell_type": "code",
   "execution_count": 11,
   "metadata": {},
   "outputs": [
    {
     "data": {
      "text/plain": [
       "0"
      ]
     },
     "execution_count": 11,
     "metadata": {},
     "output_type": "execute_result"
    }
   ],
   "source": [
    "data['ROA'] = data['Net Income (Common)']/data['Total Assets']\n",
    "len(data[data['ROA'].isnull()])"
   ]
  },
  {
   "cell_type": "markdown",
   "metadata": {},
   "source": [
    "### Deuda total / FFPP"
   ]
  },
  {
   "cell_type": "code",
   "execution_count": 12,
   "metadata": {},
   "outputs": [
    {
     "data": {
      "text/plain": [
       "395"
      ]
     },
     "execution_count": 12,
     "metadata": {},
     "output_type": "execute_result"
    }
   ],
   "source": [
    "data['Deuda_FFPP'] = (data['Short Term Debt'] + data['Long Term Debt'])/data['Total Equity']\n",
    "len(data[data['Deuda_FFPP'].isnull()])"
   ]
  },
  {
   "cell_type": "markdown",
   "metadata": {},
   "source": [
    "### Deuda corto plazo / FFPP"
   ]
  },
  {
   "cell_type": "code",
   "execution_count": 13,
   "metadata": {},
   "outputs": [
    {
     "data": {
      "text/plain": [
       "159"
      ]
     },
     "execution_count": 13,
     "metadata": {},
     "output_type": "execute_result"
    }
   ],
   "source": [
    "data['DeudaCP_FFPP'] = data['Short Term Debt'] / data['Total Equity']\n",
    "len(data[data['DeudaCP_FFPP'].isnull()])"
   ]
  },
  {
   "cell_type": "markdown",
   "metadata": {},
   "source": [
    "### Dotación en el periodo"
   ]
  },
  {
   "cell_type": "code",
   "execution_count": 14,
   "metadata": {},
   "outputs": [
    {
     "data": {
      "text/plain": [
       "51"
      ]
     },
     "execution_count": 14,
     "metadata": {},
     "output_type": "execute_result"
    }
   ],
   "source": [
    "data['Dot_dudosos'] = data['Provision for Loan Losses']/data['Total Assets']\n",
    "len(data[data['Dot_dudosos'].isnull()])"
   ]
  },
  {
   "cell_type": "markdown",
   "metadata": {},
   "source": [
    "## Variaciones en los ratios"
   ]
  },
  {
   "cell_type": "markdown",
   "metadata": {},
   "source": [
    "A continuación vamos a incorporar como variable la variación de cada ratio con respecto al periodo anterior. Para ello primero aseguramos el orden adecuado de la tabla"
   ]
  },
  {
   "cell_type": "code",
   "execution_count": 15,
   "metadata": {},
   "outputs": [],
   "source": [
    "data.sort_values(['Ticker','Fiscal Year','Fiscal Period'], ascending=True, inplace=True)"
   ]
  },
  {
   "cell_type": "markdown",
   "metadata": {},
   "source": [
    "Despues incorporamos en cada fila el valor del ratio del periodo anterior, siempre que el Ticker no varíe."
   ]
  },
  {
   "cell_type": "code",
   "execution_count": 16,
   "metadata": {},
   "outputs": [],
   "source": [
    "#Definimos una función que genere subtablas por Ticker y en ellas haga un shift para incorporar en cada línea el\n",
    "#valor de un ratio dado del periodo anterior.\n",
    "\n",
    "def ratio_ant(ratio,data):\n",
    "    table_1=pd.DataFrame()\n",
    "    for ticker in data.Ticker.unique():\n",
    "        aux_table=data[data.Ticker==ticker]\n",
    "        aux_table['var_%s'%(ratio)]=(aux_table[ratio].shift(1)/aux_table[ratio])-1\n",
    "        table_1=table_1.append(aux_table)\n",
    "    return table_1"
   ]
  },
  {
   "cell_type": "code",
   "execution_count": 17,
   "metadata": {},
   "outputs": [
    {
     "name": "stderr",
     "output_type": "stream",
     "text": [
      "/home/pipe/anaconda3/lib/python3.7/site-packages/ipykernel_launcher.py:8: SettingWithCopyWarning: \n",
      "A value is trying to be set on a copy of a slice from a DataFrame.\n",
      "Try using .loc[row_indexer,col_indexer] = value instead\n",
      "\n",
      "See the caveats in the documentation: https://pandas.pydata.org/pandas-docs/stable/user_guide/indexing.html#returning-a-view-versus-a-copy\n",
      "  \n"
     ]
    }
   ],
   "source": [
    "#Aplicamos la función anterior para cada ratio\n",
    "\n",
    "for column in ['PER','PBC','ROE','ROA','Deuda_FFPP','DeudaCP_FFPP','Dot_dudosos']:\n",
    "    data=ratio_ant(column,data)"
   ]
  },
  {
   "cell_type": "markdown",
   "metadata": {},
   "source": [
    "## Valor relativo de cada ratio"
   ]
  },
  {
   "cell_type": "markdown",
   "metadata": {},
   "source": [
    "Una posible mejora del modelo consiste en considerar cada uno de los ratios no por su valor absoluto, sino como un valor relativo con respecto al resto de compañias del periodo.\n",
    "Para ello vamos a obtener para cada periodo el decil que ocupa cada ratio de cada compañía con respecto a las demás."
   ]
  },
  {
   "cell_type": "code",
   "execution_count": 19,
   "metadata": {},
   "outputs": [],
   "source": [
    "data = data.astype({'Fiscal Year':str})\n",
    "data['periodo'] = data['Fiscal Year'] + data['Fiscal Period']"
   ]
  },
  {
   "cell_type": "code",
   "execution_count": 18,
   "metadata": {},
   "outputs": [
    {
     "ename": "SyntaxError",
     "evalue": "unexpected EOF while parsing (<ipython-input-18-9a550d9e3e4b>, line 3)",
     "output_type": "error",
     "traceback": [
      "\u001b[0;36m  File \u001b[0;32m\"<ipython-input-18-9a550d9e3e4b>\"\u001b[0;36m, line \u001b[0;32m3\u001b[0m\n\u001b[0;31m    def decil_ratio(periodo,data):\u001b[0m\n\u001b[0m                                  ^\u001b[0m\n\u001b[0;31mSyntaxError\u001b[0m\u001b[0;31m:\u001b[0m unexpected EOF while parsing\n"
     ]
    }
   ],
   "source": [
    "#Definimos una función que genere subtablas por periodo y en ellas calcule el decil de cada ratio de cada compañia\n",
    "\n",
    "#def decil_ratio(periodo,data):"
   ]
  },
  {
   "cell_type": "code",
   "execution_count": null,
   "metadata": {},
   "outputs": [],
   "source": []
  },
  {
   "cell_type": "code",
   "execution_count": null,
   "metadata": {},
   "outputs": [],
   "source": [
    "data.to_csv('../tablas/dataformodel.csv', index=False)"
   ]
  }
 ],
 "metadata": {
  "kernelspec": {
   "display_name": "Python 3",
   "language": "python",
   "name": "python3"
  },
  "language_info": {
   "codemirror_mode": {
    "name": "ipython",
    "version": 3
   },
   "file_extension": ".py",
   "mimetype": "text/x-python",
   "name": "python",
   "nbconvert_exporter": "python",
   "pygments_lexer": "ipython3",
   "version": "3.7.6"
  }
 },
 "nbformat": 4,
 "nbformat_minor": 4
}
