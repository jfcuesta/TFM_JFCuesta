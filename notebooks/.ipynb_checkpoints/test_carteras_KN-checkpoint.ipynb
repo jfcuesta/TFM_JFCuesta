{
 "cells": [
  {
   "cell_type": "markdown",
   "metadata": {},
   "source": [
    "# Análisis de resultados de varias carteras y representación gráfica"
   ]
  },
  {
   "cell_type": "markdown",
   "metadata": {},
   "source": [
    "En este notebook generamos automáticamente una cartera para cada periodo de los 10 últimos disponibles, utilizando en cada periodo como set de entrenamiento la información de los periodos anteriores. De este modo intentamos simular una situación real en la que en cada periodo únicamente disponemos de información histórica.\n",
    "\n",
    "En cada sección revisamos el tamaño aproximado de los valores que gay por periodo, y marcamos como tamaño de nuestra cartera un 10% aproximadamente de la cartera.\n",
    "\n",
    "Como variables para cada bucle consideramos también un importe de inversión. En este caso dejamos marcado 100, lo que hace que el resultado obtenido sea equibalente al valor porcentual de la rentabilidad.\n",
    "\n",
    "Dejamos fijado también para nuestra simulación los 10 últimos periodos, excluyendo los 2 últimos en los que ya carecemos de un número importante de valores, por no disponer de su precio a +180 días."
   ]
  },
  {
   "cell_type": "code",
   "execution_count": 1,
   "metadata": {},
   "outputs": [],
   "source": [
    "import pandas as pd\n",
    "import numpy as np\n",
    "import matplotlib.pyplot as plt\n",
    "import seaborn as sn\n",
    "from sklearn.metrics import confusion_matrix, classification_report\n",
    "\n",
    "from sklearn.model_selection import train_test_split\n",
    "from sklearn.model_selection import cross_val_score\n",
    "from sklearn.model_selection import GridSearchCV\n",
    "from sklearn.metrics import recall_score\n",
    "from sklearn.metrics import make_scorer\n",
    "\n",
    "from sklearn.neighbors import KNeighborsClassifier\n",
    "\n",
    "import warnings\n",
    "warnings.filterwarnings(\"ignore\")"
   ]
  },
  {
   "cell_type": "code",
   "execution_count": 2,
   "metadata": {},
   "outputs": [],
   "source": [
    "df = pd.read_csv(\"../tablas/dataformodel.csv\", usecols=['Price_d', 'Price_d+180',\n",
    "                                                        'quantile_PER', 'var_quantile_PER','PER','var_PER',\n",
    "                                                        'quantile_PBC', 'var_quantile_PBC','var_PBC',\n",
    "                                                        'quantile_ROA', 'var_quantile_ROA','var_ROA','ROA',\n",
    "                                                        'Etiqueta', 'Periodo','Ticker','Sector'])\n",
    "\n",
    "df=df.replace([np.inf, -np.inf], np.nan)\n",
    "for column in df.columns:\n",
    "    df=df[df[column].notnull()]\n",
    "df=df.reset_index(drop=True)"
   ]
  },
  {
   "cell_type": "code",
   "execution_count": 3,
   "metadata": {},
   "outputs": [],
   "source": [
    "def resultado(row):\n",
    "    return (row['Price_d+180'] - row['Price_d'])/row['Price_d']"
   ]
  },
  {
   "cell_type": "markdown",
   "metadata": {},
   "source": [
    "## Sector energético"
   ]
  },
  {
   "cell_type": "code",
   "execution_count": 4,
   "metadata": {},
   "outputs": [
    {
     "data": {
      "text/plain": [
       "Periodo\n",
       "2014Q1    40\n",
       "2014Q2    41\n",
       "2014Q3    42\n",
       "2014Q4    42\n",
       "2015Q1    42\n",
       "2015Q2    42\n",
       "2015Q3    42\n",
       "2015Q4    42\n",
       "2016Q1    42\n",
       "2016Q2    42\n",
       "2016Q3    42\n",
       "2016Q4    41\n",
       "2017Q1    41\n",
       "2017Q2    42\n",
       "2017Q3    42\n",
       "2017Q4    42\n",
       "2018Q1    42\n",
       "2018Q2    42\n",
       "2018Q3    42\n",
       "2018Q4    39\n",
       "2019Q1     3\n",
       "2019Q2     1\n",
       "Name: Ticker, dtype: int64"
      ]
     },
     "execution_count": 4,
     "metadata": {},
     "output_type": "execute_result"
    }
   ],
   "source": [
    "df_sector=df[df.Sector=='Energy']\n",
    "df_sector.groupby('Periodo').Ticker.count()"
   ]
  },
  {
   "cell_type": "code",
   "execution_count": 5,
   "metadata": {
    "scrolled": false
   },
   "outputs": [],
   "source": [
    "df_sector=df[df.Sector=='Energy']\n",
    "df_var_indice = pd.read_csv(\"../tablas/var_indice_energy.csv\")\n",
    "lista_periodos=df_sector.Periodo.unique()[10:-2]\n",
    "titulos = 4\n",
    "inversion = 100\n",
    "resumen = pd.DataFrame(columns=['Periodo','Rentabilidad'])\n",
    "ratios = ['quantile_PER','var_quantile_PER','quantile_PBC','var_quantile_PBC']\n",
    "\n",
    "for trim_seleccionado in lista_periodos:\n",
    "    df_train = df_sector[df_sector.Periodo<trim_seleccionado]\n",
    "    df_test = df_sector[df_sector.Periodo==trim_seleccionado]\n",
    "    \n",
    "    X_train=df_train[ratios].values\n",
    "    y_train=df_train['Etiqueta'].values\n",
    "    \n",
    "    \n",
    "    X_test=df_test[ratios].values\n",
    "    y_test=df_test['Etiqueta'].values\n",
    "    \n",
    "    clfk=KNeighborsClassifier(n_neighbors=5)\n",
    "    clfk.fit(X_train,y_train)\n",
    "    \n",
    "    knGrid = GridSearchCV(clfk,cv=5,scoring=\"accuracy\",param_grid={'n_neighbors':np.arange(1,20)})\n",
    "    knGrid.fit(X_train,y_train)\n",
    "    best_param=knGrid.best_params_.get('n_neighbors')\n",
    "    \n",
    "    clfk=KNeighborsClassifier(n_neighbors=best_param)\n",
    "    clfk.fit(X_train,y_train)\n",
    "      \n",
    "    df_prob=pd.DataFrame({'Probabilidad':clfk.predict_proba(X_test)[:,0],'Prediction':clfk.predict(X_test),\n",
    "                          'Actual':y_test})\n",
    "    df_prob.index=df_test.index\n",
    "\n",
    "    mejores=df_prob.sort_values('Probabilidad').tail(titulos)  \n",
    "#    peores=df_prob.sort_values('Probabilidad').head(titulos)\n",
    "\n",
    "    \n",
    "    cartera_mejores = mejores.join(df_test)\n",
    "    res_cartera_mejores=cartera_mejores[['Prediction','Price_d','Price_d+180']]\n",
    "    \n",
    "#    cartera_peores = peores.join(df_test)\n",
    "#    res_cartera_peores=cartera_peores[['Prediction','Price_d','Price_d+180']]\n",
    "    \n",
    "    res_cartera_mejores['Resultado']=res_cartera_mejores.apply(resultado,axis=1)*inversion  \n",
    "#    res_cartera_peores['Resultado']=res_cartera_peores.apply(resultado,axis=1)*inversion\n",
    "    \n",
    "#    res_cartera=res_cartera_mejores.append(res_cartera_peores)\n",
    "    \n",
    "    resumen = resumen.append({'Periodo':trim_seleccionado,'Tipo':'Cartera',\n",
    "                              'Rentabilidad':res_cartera_mejores.Resultado.mean()}, ignore_index=True)\n",
    "    \n",
    "#    resumen = resumen.append({'Periodo':trim_seleccionado,'Tipo':'Peores',\n",
    "#                              'Rentabilidad':res_cartera_peores.Resultado.mean()}, ignore_index=True)\n",
    "    \n",
    "\n",
    "\n",
    "resumen = resumen.merge(df_var_indice, \n",
    "                              left_on=('Periodo'),\n",
    "                              right_on=('Periodo'), \n",
    "                              how='left')\n",
    "\n",
    "resumen.drop(['Indice_d_100','Indice_d+180_100'], axis=1, inplace=True)\n",
    "\n",
    "\n",
    "resumen_total=resumen"
   ]
  },
  {
   "cell_type": "code",
   "execution_count": 6,
   "metadata": {
    "scrolled": true
   },
   "outputs": [
    {
     "data": {
      "text/plain": [
       "40.77749505042544"
      ]
     },
     "execution_count": 6,
     "metadata": {},
     "output_type": "execute_result"
    }
   ],
   "source": [
    "resumen.Rentabilidad.sum()"
   ]
  },
  {
   "cell_type": "code",
   "execution_count": 7,
   "metadata": {},
   "outputs": [
    {
     "data": {
      "text/plain": [
       "-18.32562437835808"
      ]
     },
     "execution_count": 7,
     "metadata": {},
     "output_type": "execute_result"
    }
   ],
   "source": [
    "resumen.Rent_indice.sum()"
   ]
  },
  {
   "cell_type": "markdown",
   "metadata": {},
   "source": [
    "## Sector tecnológico"
   ]
  },
  {
   "cell_type": "code",
   "execution_count": 8,
   "metadata": {},
   "outputs": [
    {
     "data": {
      "text/plain": [
       "Periodo\n",
       "2014Q1    106\n",
       "2014Q2    135\n",
       "2014Q3    142\n",
       "2014Q4    142\n",
       "2015Q1    142\n",
       "2015Q2    142\n",
       "2015Q3    142\n",
       "2015Q4    142\n",
       "2016Q1    144\n",
       "2016Q2    144\n",
       "2016Q3    144\n",
       "2016Q4    144\n",
       "2017Q1    144\n",
       "2017Q2    144\n",
       "2017Q3    143\n",
       "2017Q4    141\n",
       "2018Q1    141\n",
       "2018Q2    141\n",
       "2018Q3    141\n",
       "2018Q4    111\n",
       "2019Q1     46\n",
       "2019Q2     30\n",
       "Name: Ticker, dtype: int64"
      ]
     },
     "execution_count": 8,
     "metadata": {},
     "output_type": "execute_result"
    }
   ],
   "source": [
    "df_sector=df[df.Sector=='Technology']\n",
    "df_sector.groupby('Periodo').Ticker.count()"
   ]
  },
  {
   "cell_type": "code",
   "execution_count": 9,
   "metadata": {
    "scrolled": true
   },
   "outputs": [],
   "source": [
    "df_sector=df[df.Sector=='Technology']\n",
    "df_var_indice = pd.read_csv(\"../tablas/var_indice_tec.csv\")\n",
    "lista_periodos=df_sector.Periodo.unique()[10:-2]\n",
    "titulos = 14\n",
    "inversion = 100\n",
    "resumen = pd.DataFrame(columns=['Periodo','Rentabilidad'])\n",
    "ratios = ['quantile_PER','var_quantile_PER','quantile_PBC','var_quantile_PBC']\n",
    "\n",
    "for trim_seleccionado in lista_periodos:\n",
    "    df_train = df_sector[df_sector.Periodo<trim_seleccionado]\n",
    "    df_test = df_sector[df_sector.Periodo==trim_seleccionado]\n",
    "    \n",
    "    X_train=df_train[ratios].values\n",
    "    y_train=df_train['Etiqueta'].values\n",
    "    \n",
    "    \n",
    "    X_test=df_test[ratios].values\n",
    "    y_test=df_test['Etiqueta'].values\n",
    "    \n",
    "    clfk=KNeighborsClassifier(n_neighbors=5)\n",
    "    clfk.fit(X_train,y_train)\n",
    "    \n",
    "    knGrid = GridSearchCV(clfk,cv=5,scoring=\"accuracy\",param_grid={'n_neighbors':np.arange(1,20)})\n",
    "    knGrid.fit(X_train,y_train)\n",
    "    best_param=knGrid.best_params_.get('n_neighbors')\n",
    "    \n",
    "    clfk=KNeighborsClassifier(n_neighbors=best_param)\n",
    "    clfk.fit(X_train,y_train)\n",
    "      \n",
    "    df_prob=pd.DataFrame({'Probabilidad':clfk.predict_proba(X_test)[:,0],'Prediction':clfk.predict(X_test),\n",
    "                          'Actual':y_test})\n",
    "    df_prob.index=df_test.index\n",
    "\n",
    "    mejores=df_prob.sort_values('Probabilidad').tail(titulos)  \n",
    "#    peores=df_prob.sort_values('Probabilidad').head(titulos)\n",
    "\n",
    "    \n",
    "    cartera_mejores = mejores.join(df_test)\n",
    "    res_cartera_mejores=cartera_mejores[['Prediction','Price_d','Price_d+180']]\n",
    "    \n",
    "#    cartera_peores = peores.join(df_test)\n",
    "#    res_cartera_peores=cartera_peores[['Prediction','Price_d','Price_d+180']]\n",
    "    \n",
    "    res_cartera_mejores['Resultado']=res_cartera_mejores.apply(resultado,axis=1)*inversion  \n",
    "#    res_cartera_peores['Resultado']=res_cartera_peores.apply(resultado,axis=1)*inversion\n",
    "    \n",
    "#    res_cartera=res_cartera_mejores.append(res_cartera_peores)\n",
    "    \n",
    "    resumen = resumen.append({'Periodo':trim_seleccionado,'Tipo':'Cartera',\n",
    "                              'Rentabilidad':res_cartera_mejores.Resultado.mean()}, ignore_index=True)\n",
    "    \n",
    "#    resumen = resumen.append({'Periodo':trim_seleccionado,'Tipo':'Peores',\n",
    "#                              'Rentabilidad':res_cartera_peores.Resultado.mean()}, ignore_index=True)\n",
    "    \n",
    "\n",
    "\n",
    "resumen = resumen.merge(df_var_indice, \n",
    "                              left_on=('Periodo'),\n",
    "                              right_on=('Periodo'), \n",
    "                              how='left')\n",
    "\n",
    "resumen.drop(['Indice_d_100','Indice_d+180_100'], axis=1, inplace=True)\n",
    "\n",
    "\n",
    "resumen_total=resumen_total.append(resumen)"
   ]
  },
  {
   "cell_type": "code",
   "execution_count": 10,
   "metadata": {
    "scrolled": true
   },
   "outputs": [
    {
     "data": {
      "text/plain": [
       "124.304017721141"
      ]
     },
     "execution_count": 10,
     "metadata": {},
     "output_type": "execute_result"
    }
   ],
   "source": [
    "resumen.Rentabilidad.sum()"
   ]
  },
  {
   "cell_type": "code",
   "execution_count": 11,
   "metadata": {},
   "outputs": [
    {
     "data": {
      "text/plain": [
       "84.71506275039"
      ]
     },
     "execution_count": 11,
     "metadata": {},
     "output_type": "execute_result"
    }
   ],
   "source": [
    "resumen.Rent_indice.sum()"
   ]
  },
  {
   "cell_type": "markdown",
   "metadata": {},
   "source": [
    "## Sector sanitario"
   ]
  },
  {
   "cell_type": "code",
   "execution_count": 12,
   "metadata": {},
   "outputs": [
    {
     "data": {
      "text/plain": [
       "Periodo\n",
       "2014Q1     86\n",
       "2014Q2     98\n",
       "2014Q3    100\n",
       "2014Q4    100\n",
       "2015Q1    100\n",
       "2015Q2    100\n",
       "2015Q3    100\n",
       "2015Q4    101\n",
       "2016Q1    102\n",
       "2016Q2    102\n",
       "2016Q3    102\n",
       "2016Q4    102\n",
       "2017Q1    102\n",
       "2017Q2    101\n",
       "2017Q3    101\n",
       "2017Q4    100\n",
       "2018Q1    100\n",
       "2018Q2    100\n",
       "2018Q3    100\n",
       "2018Q4     85\n",
       "2019Q1     23\n",
       "2019Q2     15\n",
       "Name: Ticker, dtype: int64"
      ]
     },
     "execution_count": 12,
     "metadata": {},
     "output_type": "execute_result"
    }
   ],
   "source": [
    "df_sector=df[df.Sector=='Healthcare']\n",
    "df_sector.groupby('Periodo').Ticker.count()"
   ]
  },
  {
   "cell_type": "code",
   "execution_count": 13,
   "metadata": {
    "scrolled": false
   },
   "outputs": [],
   "source": [
    "df_sector=df[df.Sector=='Healthcare']\n",
    "df_var_indice = pd.read_csv(\"../tablas/var_indice_health.csv\")\n",
    "lista_periodos=df_sector.Periodo.unique()[10:-2]\n",
    "titulos = 10\n",
    "inversion = 100\n",
    "resumen = pd.DataFrame(columns=['Periodo','Rentabilidad'])\n",
    "ratios = ['quantile_PER','var_quantile_PER','quantile_PBC','var_quantile_PBC']\n",
    "\n",
    "for trim_seleccionado in lista_periodos:\n",
    "    df_train = df_sector[df_sector.Periodo<trim_seleccionado]\n",
    "    df_test = df_sector[df_sector.Periodo==trim_seleccionado]\n",
    "    \n",
    "    X_train=df_train[ratios].values\n",
    "    y_train=df_train['Etiqueta'].values\n",
    "    \n",
    "    \n",
    "    X_test=df_test[ratios].values\n",
    "    y_test=df_test['Etiqueta'].values\n",
    "    \n",
    "    clfk=KNeighborsClassifier(n_neighbors=5)\n",
    "    clfk.fit(X_train,y_train)\n",
    "    \n",
    "    knGrid = GridSearchCV(clfk,cv=5,scoring=\"accuracy\",param_grid={'n_neighbors':np.arange(1,20)})\n",
    "    knGrid.fit(X_train,y_train)\n",
    "    best_param=knGrid.best_params_.get('n_neighbors')\n",
    "    \n",
    "    clfk=KNeighborsClassifier(n_neighbors=best_param)\n",
    "    clfk.fit(X_train,y_train)\n",
    "      \n",
    "    df_prob=pd.DataFrame({'Probabilidad':clfk.predict_proba(X_test)[:,0],'Prediction':clfk.predict(X_test),\n",
    "                          'Actual':y_test})\n",
    "    df_prob.index=df_test.index\n",
    "\n",
    "    mejores=df_prob.sort_values('Probabilidad').tail(titulos)  \n",
    "#    peores=df_prob.sort_values('Probabilidad').head(titulos)\n",
    "\n",
    "    \n",
    "    cartera_mejores = mejores.join(df_test)\n",
    "    res_cartera_mejores=cartera_mejores[['Prediction','Price_d','Price_d+180']]\n",
    "    \n",
    "#    cartera_peores = peores.join(df_test)\n",
    "#    res_cartera_peores=cartera_peores[['Prediction','Price_d','Price_d+180']]\n",
    "    \n",
    "    res_cartera_mejores['Resultado']=res_cartera_mejores.apply(resultado,axis=1)*inversion  \n",
    "#    res_cartera_peores['Resultado']=res_cartera_peores.apply(resultado,axis=1)*inversion\n",
    "    \n",
    "#    res_cartera=res_cartera_mejores.append(res_cartera_peores)\n",
    "    \n",
    "    resumen = resumen.append({'Periodo':trim_seleccionado,'Tipo':'Cartera',\n",
    "                              'Rentabilidad':res_cartera_mejores.Resultado.mean()}, ignore_index=True)\n",
    "    \n",
    "#    resumen = resumen.append({'Periodo':trim_seleccionado,'Tipo':'Peores',\n",
    "#                              'Rentabilidad':res_cartera_peores.Resultado.mean()}, ignore_index=True)\n",
    "    \n",
    "\n",
    "\n",
    "resumen = resumen.merge(df_var_indice, \n",
    "                              left_on=('Periodo'),\n",
    "                              right_on=('Periodo'), \n",
    "                              how='left')\n",
    "\n",
    "resumen.drop(['Indice_d_100','Indice_d+180_100'], axis=1, inplace=True)\n",
    "\n",
    "\n",
    "resumen_total=resumen_total.append(resumen)"
   ]
  },
  {
   "cell_type": "code",
   "execution_count": 14,
   "metadata": {
    "scrolled": true
   },
   "outputs": [
    {
     "data": {
      "text/plain": [
       "60.40599535873711"
      ]
     },
     "execution_count": 14,
     "metadata": {},
     "output_type": "execute_result"
    }
   ],
   "source": [
    "resumen.Rentabilidad.sum()"
   ]
  },
  {
   "cell_type": "code",
   "execution_count": 15,
   "metadata": {},
   "outputs": [
    {
     "data": {
      "text/plain": [
       "84.64575429344129"
      ]
     },
     "execution_count": 15,
     "metadata": {},
     "output_type": "execute_result"
    }
   ],
   "source": [
    "resumen.Rent_indice.sum()"
   ]
  },
  {
   "cell_type": "markdown",
   "metadata": {},
   "source": [
    "## Sector industrial"
   ]
  },
  {
   "cell_type": "code",
   "execution_count": 16,
   "metadata": {
    "scrolled": true
   },
   "outputs": [
    {
     "data": {
      "text/plain": [
       "Periodo\n",
       "2014Q1    132\n",
       "2014Q2    149\n",
       "2014Q3    154\n",
       "2014Q4    154\n",
       "2015Q1    154\n",
       "2015Q2    154\n",
       "2015Q3    155\n",
       "2015Q4    157\n",
       "2016Q1    156\n",
       "2016Q2    157\n",
       "2016Q3    157\n",
       "2016Q4    157\n",
       "2017Q1    157\n",
       "2017Q2    157\n",
       "2017Q3    158\n",
       "2017Q4    158\n",
       "2018Q1    158\n",
       "2018Q2    158\n",
       "2018Q3    158\n",
       "2018Q4    135\n",
       "2019Q1     37\n",
       "2019Q2     21\n",
       "Name: Ticker, dtype: int64"
      ]
     },
     "execution_count": 16,
     "metadata": {},
     "output_type": "execute_result"
    }
   ],
   "source": [
    "df_sector=df[df.Sector=='Industrials']\n",
    "df_sector.groupby('Periodo').Ticker.count()"
   ]
  },
  {
   "cell_type": "code",
   "execution_count": 17,
   "metadata": {
    "scrolled": false
   },
   "outputs": [],
   "source": [
    "df_sector=df[df.Sector=='Industrials']\n",
    "df_var_indice = pd.read_csv(\"../tablas/var_indice_ind.csv\")\n",
    "lista_periodos=df_sector.Periodo.unique()[10:-2]\n",
    "titulos = 16\n",
    "inversion = 100\n",
    "resumen = pd.DataFrame(columns=['Periodo','Rentabilidad'])\n",
    "ratios = ['quantile_PER','var_quantile_PER','quantile_PBC','var_quantile_PBC']\n",
    "\n",
    "for trim_seleccionado in lista_periodos:\n",
    "    df_train = df_sector[df_sector.Periodo<trim_seleccionado]\n",
    "    df_test = df_sector[df_sector.Periodo==trim_seleccionado]\n",
    "    \n",
    "    X_train=df_train[ratios].values\n",
    "    y_train=df_train['Etiqueta'].values\n",
    "    \n",
    "    \n",
    "    X_test=df_test[ratios].values\n",
    "    y_test=df_test['Etiqueta'].values\n",
    "    \n",
    "    clfk=KNeighborsClassifier(n_neighbors=5)\n",
    "    clfk.fit(X_train,y_train)\n",
    "    \n",
    "    knGrid = GridSearchCV(clfk,cv=5,scoring=\"accuracy\",param_grid={'n_neighbors':np.arange(1,20)})\n",
    "    knGrid.fit(X_train,y_train)\n",
    "    best_param=knGrid.best_params_.get('n_neighbors')\n",
    "    \n",
    "    clfk=KNeighborsClassifier(n_neighbors=best_param)\n",
    "    clfk.fit(X_train,y_train)\n",
    "      \n",
    "    df_prob=pd.DataFrame({'Probabilidad':clfk.predict_proba(X_test)[:,0],'Prediction':clfk.predict(X_test),\n",
    "                          'Actual':y_test})\n",
    "    df_prob.index=df_test.index\n",
    "\n",
    "    mejores=df_prob.sort_values('Probabilidad').tail(titulos)  \n",
    "#    peores=df_prob.sort_values('Probabilidad').head(titulos)\n",
    "\n",
    "    \n",
    "    cartera_mejores = mejores.join(df_test)\n",
    "    res_cartera_mejores=cartera_mejores[['Prediction','Price_d','Price_d+180']]\n",
    "    \n",
    "#    cartera_peores = peores.join(df_test)\n",
    "#    res_cartera_peores=cartera_peores[['Prediction','Price_d','Price_d+180']]\n",
    "    \n",
    "    res_cartera_mejores['Resultado']=res_cartera_mejores.apply(resultado,axis=1)*inversion  \n",
    "#    res_cartera_peores['Resultado']=res_cartera_peores.apply(resultado,axis=1)*inversion\n",
    "    \n",
    "#    res_cartera=res_cartera_mejores.append(res_cartera_peores)\n",
    "    \n",
    "    resumen = resumen.append({'Periodo':trim_seleccionado,'Tipo':'Cartera',\n",
    "                              'Rentabilidad':res_cartera_mejores.Resultado.mean()}, ignore_index=True)\n",
    "    \n",
    "#    resumen = resumen.append({'Periodo':trim_seleccionado,'Tipo':'Peores',\n",
    "#                              'Rentabilidad':res_cartera_peores.Resultado.mean()}, ignore_index=True)\n",
    "    \n",
    "\n",
    "\n",
    "resumen = resumen.merge(df_var_indice, \n",
    "                              left_on=('Periodo'),\n",
    "                              right_on=('Periodo'), \n",
    "                              how='left')\n",
    "\n",
    "resumen.drop(['Indice_d_100','Indice_d+180_100'], axis=1, inplace=True)\n",
    "\n",
    "resumen_total=resumen_total.append(resumen)"
   ]
  },
  {
   "cell_type": "code",
   "execution_count": 18,
   "metadata": {
    "scrolled": true
   },
   "outputs": [
    {
     "data": {
      "text/plain": [
       "74.10137230507696"
      ]
     },
     "execution_count": 18,
     "metadata": {},
     "output_type": "execute_result"
    }
   ],
   "source": [
    "resumen.Rentabilidad.sum()"
   ]
  },
  {
   "cell_type": "code",
   "execution_count": 19,
   "metadata": {},
   "outputs": [
    {
     "data": {
      "text/plain": [
       "81.99169861220004"
      ]
     },
     "execution_count": 19,
     "metadata": {},
     "output_type": "execute_result"
    }
   ],
   "source": [
    "resumen.Rent_indice.sum()"
   ]
  },
  {
   "cell_type": "code",
   "execution_count": 20,
   "metadata": {},
   "outputs": [],
   "source": [
    "resumen_total.reset_index(inplace=True, drop=True)\n",
    "resumen_total.to_csv('../tablas/result_carteras_KN.csv', index=False)"
   ]
  }
 ],
 "metadata": {
  "kernelspec": {
   "display_name": "Python 3",
   "language": "python",
   "name": "python3"
  },
  "language_info": {
   "codemirror_mode": {
    "name": "ipython",
    "version": 3
   },
   "file_extension": ".py",
   "mimetype": "text/x-python",
   "name": "python",
   "nbconvert_exporter": "python",
   "pygments_lexer": "ipython3",
   "version": "3.7.6"
  }
 },
 "nbformat": 4,
 "nbformat_minor": 4
}
