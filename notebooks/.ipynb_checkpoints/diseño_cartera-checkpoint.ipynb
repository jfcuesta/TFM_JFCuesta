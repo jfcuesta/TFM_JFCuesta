{
 "cells": [
  {
   "cell_type": "markdown",
   "metadata": {},
   "source": [
    "# Diseño de carteras de inversión"
   ]
  },
  {
   "cell_type": "markdown",
   "metadata": {},
   "source": [
    "El objetivo buscado en este notebook es analizar las posibilidades de diselar una cartera de inversión a partir de los resultados de los modelos de machine learning sobre el comportamiento bursatil de valores."
   ]
  },
  {
   "cell_type": "code",
   "execution_count": 1,
   "metadata": {},
   "outputs": [],
   "source": [
    "import pandas as pd\n",
    "import numpy as np\n",
    "import matplotlib.pyplot as plt\n",
    "import seaborn as sn\n",
    "from sklearn.metrics import confusion_matrix, classification_report"
   ]
  },
  {
   "cell_type": "code",
   "execution_count": 2,
   "metadata": {},
   "outputs": [],
   "source": [
    "df = pd.read_csv(\"../tablas/dataformodel.csv\", usecols=['Price_d', 'Price_d+180',\n",
    "                                                        'quantile_PER', 'var_quantile_PER',\n",
    "                                                        'quantile_PBC', 'var_quantile_PBC',\n",
    "                                                        'quantile_ROA',\n",
    "                                                        'quantile_Dot_dudosos', 'var_quantile_Dot_dudosos',\n",
    "                                                        'Etiqueta', 'Periodo','Ticker'])\n",
    "\n",
    "df=df.replace([np.inf, -np.inf], np.nan)\n",
    "for column in df.columns:\n",
    "    df=df[df[column].notnull()]\n",
    "df=df.reset_index(drop=True)"
   ]
  },
  {
   "cell_type": "markdown",
   "metadata": {},
   "source": [
    "## Preparación del modelo"
   ]
  },
  {
   "cell_type": "code",
   "execution_count": 3,
   "metadata": {},
   "outputs": [],
   "source": [
    "trim_seleccionado = '2016Q1'"
   ]
  },
  {
   "cell_type": "code",
   "execution_count": 4,
   "metadata": {},
   "outputs": [],
   "source": [
    "df_train = df[df.Periodo<trim_seleccionado]\n",
    "df_test = df[df.Periodo==trim_seleccionado]"
   ]
  },
  {
   "cell_type": "code",
   "execution_count": null,
   "metadata": {},
   "outputs": [],
   "source": []
  },
  {
   "cell_type": "code",
   "execution_count": 5,
   "metadata": {},
   "outputs": [],
   "source": [
    "X_train=df_train[['quantile_PER', 'var_quantile_PER',\n",
    "                  'quantile_PBC', 'var_quantile_PBC',\n",
    "                  'quantile_ROA',\n",
    "                  'quantile_Dot_dudosos', 'var_quantile_Dot_dudosos']].values\n",
    "y_train=df_train['Etiqueta'].values"
   ]
  },
  {
   "cell_type": "code",
   "execution_count": 6,
   "metadata": {},
   "outputs": [
    {
     "data": {
      "text/plain": [
       "564"
      ]
     },
     "execution_count": 6,
     "metadata": {},
     "output_type": "execute_result"
    }
   ],
   "source": [
    "len(X_train)"
   ]
  },
  {
   "cell_type": "code",
   "execution_count": 7,
   "metadata": {},
   "outputs": [],
   "source": [
    "X_test=df_test[['quantile_PER', 'var_quantile_PER',\n",
    "                  'quantile_PBC', 'var_quantile_PBC',\n",
    "                  'quantile_ROA',\n",
    "                  'quantile_Dot_dudosos', 'var_quantile_Dot_dudosos']].values\n",
    "y_test=df_test['Etiqueta'].values"
   ]
  },
  {
   "cell_type": "code",
   "execution_count": 8,
   "metadata": {},
   "outputs": [],
   "source": [
    "from sklearn.model_selection import train_test_split\n",
    "from sklearn.model_selection import cross_val_score\n",
    "from sklearn.metrics import recall_score\n",
    "from sklearn.metrics import make_scorer"
   ]
  },
  {
   "cell_type": "markdown",
   "metadata": {},
   "source": [
    "### Kneighbors"
   ]
  },
  {
   "cell_type": "code",
   "execution_count": 9,
   "metadata": {
    "scrolled": true
   },
   "outputs": [
    {
     "data": {
      "text/plain": [
       "KNeighborsClassifier(algorithm='auto', leaf_size=30, metric='minkowski',\n",
       "                     metric_params=None, n_jobs=None, n_neighbors=5, p=2,\n",
       "                     weights='uniform')"
      ]
     },
     "execution_count": 9,
     "metadata": {},
     "output_type": "execute_result"
    }
   ],
   "source": [
    "# Load the library\n",
    "from sklearn.neighbors import KNeighborsClassifier\n",
    "# Create an instance of the classifier\n",
    "clfk=KNeighborsClassifier(n_neighbors=5)\n",
    "# Fit the data\n",
    "clfk.fit(X_train,y_train)"
   ]
  },
  {
   "cell_type": "code",
   "execution_count": 10,
   "metadata": {},
   "outputs": [],
   "source": [
    "from sklearn.model_selection import GridSearchCV"
   ]
  },
  {
   "cell_type": "code",
   "execution_count": 11,
   "metadata": {},
   "outputs": [
    {
     "data": {
      "text/plain": [
       "{'n_neighbors': 3}"
      ]
     },
     "execution_count": 11,
     "metadata": {},
     "output_type": "execute_result"
    }
   ],
   "source": [
    "knGrid = GridSearchCV(clfk,cv=5,scoring=\"accuracy\",param_grid={'n_neighbors':np.arange(1,20)})\n",
    "knGrid.fit(X_train,y_train)\n",
    "knGrid.best_params_"
   ]
  },
  {
   "cell_type": "code",
   "execution_count": 12,
   "metadata": {},
   "outputs": [],
   "source": [
    "best_param=knGrid.best_params_.get('n_neighbors')"
   ]
  },
  {
   "cell_type": "code",
   "execution_count": 13,
   "metadata": {},
   "outputs": [
    {
     "data": {
      "text/plain": [
       "KNeighborsClassifier(algorithm='auto', leaf_size=30, metric='minkowski',\n",
       "                     metric_params=None, n_jobs=None, n_neighbors=3, p=2,\n",
       "                     weights='uniform')"
      ]
     },
     "execution_count": 13,
     "metadata": {},
     "output_type": "execute_result"
    }
   ],
   "source": [
    "clfk=KNeighborsClassifier(n_neighbors=best_param)\n",
    "clfk.fit(X_train,y_train)"
   ]
  },
  {
   "cell_type": "code",
   "execution_count": 14,
   "metadata": {},
   "outputs": [
    {
     "data": {
      "text/plain": [
       "0.471665613147914"
      ]
     },
     "execution_count": 14,
     "metadata": {},
     "output_type": "execute_result"
    }
   ],
   "source": [
    "cross_val_score(clfk,X_train,y_train,cv=5,scoring=\"accuracy\").mean()"
   ]
  },
  {
   "cell_type": "code",
   "execution_count": 15,
   "metadata": {},
   "outputs": [
    {
     "name": "stdout",
     "output_type": "stream",
     "text": [
      "              precision    recall  f1-score   support\n",
      "\n",
      "       Mejor       0.67      0.67      0.67        18\n",
      "        Peor       0.57      0.57      0.57        14\n",
      "\n",
      "    accuracy                           0.62        32\n",
      "   macro avg       0.62      0.62      0.62        32\n",
      "weighted avg       0.62      0.62      0.62        32\n",
      "\n"
     ]
    }
   ],
   "source": [
    "print(classification_report(y_test,clfk.predict(X_test)))"
   ]
  },
  {
   "cell_type": "code",
   "execution_count": 16,
   "metadata": {},
   "outputs": [
    {
     "data": {
      "text/plain": [
       "0.625"
      ]
     },
     "execution_count": 16,
     "metadata": {},
     "output_type": "execute_result"
    }
   ],
   "source": [
    "clfk.score(X_test, y_test, sample_weight=None)"
   ]
  },
  {
   "cell_type": "markdown",
   "metadata": {},
   "source": [
    "Creamos un dataframe con la probabilidad asignada por el modelo a cada registro del grupo test"
   ]
  },
  {
   "cell_type": "code",
   "execution_count": 17,
   "metadata": {
    "scrolled": true
   },
   "outputs": [
    {
     "data": {
      "text/plain": [
       "32"
      ]
     },
     "execution_count": 17,
     "metadata": {},
     "output_type": "execute_result"
    }
   ],
   "source": [
    "df_prob=pd.DataFrame({'Probabilidad':clfk.predict_proba(X_test)[:,0],'Prediction':clfk.predict(X_test),'Actual':y_test})\n",
    "df_prob.index=df_test.index\n",
    "len(df_prob)"
   ]
  },
  {
   "cell_type": "markdown",
   "metadata": {},
   "source": [
    "Seleccionamos los 10 con mayor probabilidad de ser clasificados como 'Mejor' y los 10 con mayor probabilidad de clasificarse como 'Peor'"
   ]
  },
  {
   "cell_type": "code",
   "execution_count": 18,
   "metadata": {},
   "outputs": [],
   "source": [
    "best=df_prob.sort_values('Probabilidad').head(10)\n",
    "worst=df_prob.sort_values('Probabilidad').tail(10)\n",
    "cartera=best.append(worst)"
   ]
  },
  {
   "cell_type": "code",
   "execution_count": 19,
   "metadata": {},
   "outputs": [
    {
     "data": {
      "text/html": [
       "<div>\n",
       "<style scoped>\n",
       "    .dataframe tbody tr th:only-of-type {\n",
       "        vertical-align: middle;\n",
       "    }\n",
       "\n",
       "    .dataframe tbody tr th {\n",
       "        vertical-align: top;\n",
       "    }\n",
       "\n",
       "    .dataframe thead th {\n",
       "        text-align: right;\n",
       "    }\n",
       "</style>\n",
       "<table border=\"1\" class=\"dataframe\">\n",
       "  <thead>\n",
       "    <tr style=\"text-align: right;\">\n",
       "      <th></th>\n",
       "      <th>Probabilidad</th>\n",
       "      <th>Prediction</th>\n",
       "      <th>Actual</th>\n",
       "    </tr>\n",
       "  </thead>\n",
       "  <tbody>\n",
       "    <tr>\n",
       "      <th>876</th>\n",
       "      <td>0.000000</td>\n",
       "      <td>Peor</td>\n",
       "      <td>Peor</td>\n",
       "    </tr>\n",
       "    <tr>\n",
       "      <th>160</th>\n",
       "      <td>0.000000</td>\n",
       "      <td>Peor</td>\n",
       "      <td>Mejor</td>\n",
       "    </tr>\n",
       "    <tr>\n",
       "      <th>218</th>\n",
       "      <td>0.000000</td>\n",
       "      <td>Peor</td>\n",
       "      <td>Peor</td>\n",
       "    </tr>\n",
       "    <tr>\n",
       "      <th>905</th>\n",
       "      <td>0.333333</td>\n",
       "      <td>Peor</td>\n",
       "      <td>Peor</td>\n",
       "    </tr>\n",
       "    <tr>\n",
       "      <th>470</th>\n",
       "      <td>0.333333</td>\n",
       "      <td>Peor</td>\n",
       "      <td>Peor</td>\n",
       "    </tr>\n",
       "    <tr>\n",
       "      <th>325</th>\n",
       "      <td>0.333333</td>\n",
       "      <td>Peor</td>\n",
       "      <td>Mejor</td>\n",
       "    </tr>\n",
       "    <tr>\n",
       "      <th>296</th>\n",
       "      <td>0.333333</td>\n",
       "      <td>Peor</td>\n",
       "      <td>Mejor</td>\n",
       "    </tr>\n",
       "    <tr>\n",
       "      <th>586</th>\n",
       "      <td>0.333333</td>\n",
       "      <td>Peor</td>\n",
       "      <td>Mejor</td>\n",
       "    </tr>\n",
       "    <tr>\n",
       "      <th>268</th>\n",
       "      <td>0.333333</td>\n",
       "      <td>Peor</td>\n",
       "      <td>Peor</td>\n",
       "    </tr>\n",
       "    <tr>\n",
       "      <th>189</th>\n",
       "      <td>0.333333</td>\n",
       "      <td>Peor</td>\n",
       "      <td>Peor</td>\n",
       "    </tr>\n",
       "    <tr>\n",
       "      <th>354</th>\n",
       "      <td>0.666667</td>\n",
       "      <td>Mejor</td>\n",
       "      <td>Mejor</td>\n",
       "    </tr>\n",
       "    <tr>\n",
       "      <th>102</th>\n",
       "      <td>0.666667</td>\n",
       "      <td>Mejor</td>\n",
       "      <td>Mejor</td>\n",
       "    </tr>\n",
       "    <tr>\n",
       "      <th>73</th>\n",
       "      <td>0.666667</td>\n",
       "      <td>Mejor</td>\n",
       "      <td>Mejor</td>\n",
       "    </tr>\n",
       "    <tr>\n",
       "      <th>47</th>\n",
       "      <td>0.666667</td>\n",
       "      <td>Mejor</td>\n",
       "      <td>Mejor</td>\n",
       "    </tr>\n",
       "    <tr>\n",
       "      <th>557</th>\n",
       "      <td>0.666667</td>\n",
       "      <td>Mejor</td>\n",
       "      <td>Peor</td>\n",
       "    </tr>\n",
       "    <tr>\n",
       "      <th>441</th>\n",
       "      <td>0.666667</td>\n",
       "      <td>Mejor</td>\n",
       "      <td>Peor</td>\n",
       "    </tr>\n",
       "    <tr>\n",
       "      <th>615</th>\n",
       "      <td>1.000000</td>\n",
       "      <td>Mejor</td>\n",
       "      <td>Mejor</td>\n",
       "    </tr>\n",
       "    <tr>\n",
       "      <th>383</th>\n",
       "      <td>1.000000</td>\n",
       "      <td>Mejor</td>\n",
       "      <td>Mejor</td>\n",
       "    </tr>\n",
       "    <tr>\n",
       "      <th>788</th>\n",
       "      <td>1.000000</td>\n",
       "      <td>Mejor</td>\n",
       "      <td>Peor</td>\n",
       "    </tr>\n",
       "    <tr>\n",
       "      <th>847</th>\n",
       "      <td>1.000000</td>\n",
       "      <td>Mejor</td>\n",
       "      <td>Peor</td>\n",
       "    </tr>\n",
       "  </tbody>\n",
       "</table>\n",
       "</div>"
      ],
      "text/plain": [
       "     Probabilidad Prediction Actual\n",
       "876      0.000000       Peor   Peor\n",
       "160      0.000000       Peor  Mejor\n",
       "218      0.000000       Peor   Peor\n",
       "905      0.333333       Peor   Peor\n",
       "470      0.333333       Peor   Peor\n",
       "325      0.333333       Peor  Mejor\n",
       "296      0.333333       Peor  Mejor\n",
       "586      0.333333       Peor  Mejor\n",
       "268      0.333333       Peor   Peor\n",
       "189      0.333333       Peor   Peor\n",
       "354      0.666667      Mejor  Mejor\n",
       "102      0.666667      Mejor  Mejor\n",
       "73       0.666667      Mejor  Mejor\n",
       "47       0.666667      Mejor  Mejor\n",
       "557      0.666667      Mejor   Peor\n",
       "441      0.666667      Mejor   Peor\n",
       "615      1.000000      Mejor  Mejor\n",
       "383      1.000000      Mejor  Mejor\n",
       "788      1.000000      Mejor   Peor\n",
       "847      1.000000      Mejor   Peor"
      ]
     },
     "execution_count": 19,
     "metadata": {},
     "output_type": "execute_result"
    }
   ],
   "source": [
    "cartera"
   ]
  },
  {
   "cell_type": "markdown",
   "metadata": {},
   "source": [
    "Evaluación de la cartera seleccionada"
   ]
  },
  {
   "cell_type": "code",
   "execution_count": 20,
   "metadata": {},
   "outputs": [],
   "source": [
    "def resultado(row):   \n",
    "    if row['Prediction']=='Mejor' and row['Actual']=='Mejor':\n",
    "        return 'True positive'\n",
    "    elif row['Prediction']=='Peor' and row['Actual']=='Peor':\n",
    "        return 'True negative'\n",
    "    elif row['Prediction']=='Peor' and row['Actual']=='Mejor':\n",
    "        return 'False negative'\n",
    "    else:\n",
    "        return 'False positive'"
   ]
  },
  {
   "cell_type": "code",
   "execution_count": 21,
   "metadata": {},
   "outputs": [
    {
     "data": {
      "text/html": [
       "<div>\n",
       "<style scoped>\n",
       "    .dataframe tbody tr th:only-of-type {\n",
       "        vertical-align: middle;\n",
       "    }\n",
       "\n",
       "    .dataframe tbody tr th {\n",
       "        vertical-align: top;\n",
       "    }\n",
       "\n",
       "    .dataframe thead th {\n",
       "        text-align: right;\n",
       "    }\n",
       "</style>\n",
       "<table border=\"1\" class=\"dataframe\">\n",
       "  <thead>\n",
       "    <tr style=\"text-align: right;\">\n",
       "      <th></th>\n",
       "      <th>Probabilidad</th>\n",
       "      <th>Prediction</th>\n",
       "      <th>Actual</th>\n",
       "    </tr>\n",
       "    <tr>\n",
       "      <th>Resultado</th>\n",
       "      <th></th>\n",
       "      <th></th>\n",
       "      <th></th>\n",
       "    </tr>\n",
       "  </thead>\n",
       "  <tbody>\n",
       "    <tr>\n",
       "      <th>False negative</th>\n",
       "      <td>4</td>\n",
       "      <td>4</td>\n",
       "      <td>4</td>\n",
       "    </tr>\n",
       "    <tr>\n",
       "      <th>False positive</th>\n",
       "      <td>4</td>\n",
       "      <td>4</td>\n",
       "      <td>4</td>\n",
       "    </tr>\n",
       "    <tr>\n",
       "      <th>True negative</th>\n",
       "      <td>6</td>\n",
       "      <td>6</td>\n",
       "      <td>6</td>\n",
       "    </tr>\n",
       "    <tr>\n",
       "      <th>True positive</th>\n",
       "      <td>6</td>\n",
       "      <td>6</td>\n",
       "      <td>6</td>\n",
       "    </tr>\n",
       "  </tbody>\n",
       "</table>\n",
       "</div>"
      ],
      "text/plain": [
       "                Probabilidad  Prediction  Actual\n",
       "Resultado                                       \n",
       "False negative             4           4       4\n",
       "False positive             4           4       4\n",
       "True negative              6           6       6\n",
       "True positive              6           6       6"
      ]
     },
     "execution_count": 21,
     "metadata": {},
     "output_type": "execute_result"
    }
   ],
   "source": [
    "cartera['Resultado']=cartera.apply(resultado,axis=1)\n",
    "cartera.groupby('Resultado').count()"
   ]
  },
  {
   "cell_type": "markdown",
   "metadata": {},
   "source": [
    "Cálculo de posibles ganancias/pérdidas"
   ]
  },
  {
   "cell_type": "code",
   "execution_count": 22,
   "metadata": {},
   "outputs": [],
   "source": [
    "#Volcamos los precios de cada valor de nuestra cartera\n",
    "\n",
    "cartera = cartera.join(df_test)\n",
    "\n",
    "#df_valores.drop(['Precio'], axis=1, inplace=True)\n",
    "\n",
    "#df_valores.rename(columns={'Price_b100':'Price_d+180_100'}, inplace=True)"
   ]
  },
  {
   "cell_type": "code",
   "execution_count": 23,
   "metadata": {},
   "outputs": [
    {
     "data": {
      "text/html": [
       "<div>\n",
       "<style scoped>\n",
       "    .dataframe tbody tr th:only-of-type {\n",
       "        vertical-align: middle;\n",
       "    }\n",
       "\n",
       "    .dataframe tbody tr th {\n",
       "        vertical-align: top;\n",
       "    }\n",
       "\n",
       "    .dataframe thead th {\n",
       "        text-align: right;\n",
       "    }\n",
       "</style>\n",
       "<table border=\"1\" class=\"dataframe\">\n",
       "  <thead>\n",
       "    <tr style=\"text-align: right;\">\n",
       "      <th></th>\n",
       "      <th>Prediction</th>\n",
       "      <th>Price_d</th>\n",
       "      <th>Price_d+180</th>\n",
       "    </tr>\n",
       "  </thead>\n",
       "  <tbody>\n",
       "    <tr>\n",
       "      <th>876</th>\n",
       "      <td>Peor</td>\n",
       "      <td>42.43</td>\n",
       "      <td>40.21</td>\n",
       "    </tr>\n",
       "    <tr>\n",
       "      <th>160</th>\n",
       "      <td>Peor</td>\n",
       "      <td>15.52</td>\n",
       "      <td>19.46</td>\n",
       "    </tr>\n",
       "    <tr>\n",
       "      <th>218</th>\n",
       "      <td>Peor</td>\n",
       "      <td>10.41</td>\n",
       "      <td>10.72</td>\n",
       "    </tr>\n",
       "    <tr>\n",
       "      <th>905</th>\n",
       "      <td>Peor</td>\n",
       "      <td>28.15</td>\n",
       "      <td>29.58</td>\n",
       "    </tr>\n",
       "    <tr>\n",
       "      <th>470</th>\n",
       "      <td>Peor</td>\n",
       "      <td>107.17</td>\n",
       "      <td>110.15</td>\n",
       "    </tr>\n",
       "    <tr>\n",
       "      <th>325</th>\n",
       "      <td>Peor</td>\n",
       "      <td>54.44</td>\n",
       "      <td>59.81</td>\n",
       "    </tr>\n",
       "    <tr>\n",
       "      <th>296</th>\n",
       "      <td>Peor</td>\n",
       "      <td>22.34</td>\n",
       "      <td>29.37</td>\n",
       "    </tr>\n",
       "    <tr>\n",
       "      <th>586</th>\n",
       "      <td>Peor</td>\n",
       "      <td>17.54</td>\n",
       "      <td>21.04</td>\n",
       "    </tr>\n",
       "    <tr>\n",
       "      <th>268</th>\n",
       "      <td>Peor</td>\n",
       "      <td>18.96</td>\n",
       "      <td>19.29</td>\n",
       "    </tr>\n",
       "    <tr>\n",
       "      <th>189</th>\n",
       "      <td>Peor</td>\n",
       "      <td>22.84</td>\n",
       "      <td>24.74</td>\n",
       "    </tr>\n",
       "    <tr>\n",
       "      <th>354</th>\n",
       "      <td>Mejor</td>\n",
       "      <td>23.30</td>\n",
       "      <td>27.53</td>\n",
       "    </tr>\n",
       "    <tr>\n",
       "      <th>102</th>\n",
       "      <td>Mejor</td>\n",
       "      <td>39.92</td>\n",
       "      <td>47.24</td>\n",
       "    </tr>\n",
       "    <tr>\n",
       "      <th>73</th>\n",
       "      <td>Mejor</td>\n",
       "      <td>29.02</td>\n",
       "      <td>32.56</td>\n",
       "    </tr>\n",
       "    <tr>\n",
       "      <th>47</th>\n",
       "      <td>Mejor</td>\n",
       "      <td>55.46</td>\n",
       "      <td>68.63</td>\n",
       "    </tr>\n",
       "    <tr>\n",
       "      <th>557</th>\n",
       "      <td>Mejor</td>\n",
       "      <td>13.35</td>\n",
       "      <td>13.42</td>\n",
       "    </tr>\n",
       "    <tr>\n",
       "      <th>441</th>\n",
       "      <td>Mejor</td>\n",
       "      <td>17.60</td>\n",
       "      <td>18.83</td>\n",
       "    </tr>\n",
       "    <tr>\n",
       "      <th>615</th>\n",
       "      <td>Mejor</td>\n",
       "      <td>76.53</td>\n",
       "      <td>86.81</td>\n",
       "    </tr>\n",
       "    <tr>\n",
       "      <th>383</th>\n",
       "      <td>Mejor</td>\n",
       "      <td>56.75</td>\n",
       "      <td>63.01</td>\n",
       "    </tr>\n",
       "    <tr>\n",
       "      <th>788</th>\n",
       "      <td>Mejor</td>\n",
       "      <td>13.12</td>\n",
       "      <td>15.42</td>\n",
       "    </tr>\n",
       "    <tr>\n",
       "      <th>847</th>\n",
       "      <td>Mejor</td>\n",
       "      <td>35.82</td>\n",
       "      <td>36.50</td>\n",
       "    </tr>\n",
       "  </tbody>\n",
       "</table>\n",
       "</div>"
      ],
      "text/plain": [
       "    Prediction  Price_d  Price_d+180\n",
       "876       Peor    42.43        40.21\n",
       "160       Peor    15.52        19.46\n",
       "218       Peor    10.41        10.72\n",
       "905       Peor    28.15        29.58\n",
       "470       Peor   107.17       110.15\n",
       "325       Peor    54.44        59.81\n",
       "296       Peor    22.34        29.37\n",
       "586       Peor    17.54        21.04\n",
       "268       Peor    18.96        19.29\n",
       "189       Peor    22.84        24.74\n",
       "354      Mejor    23.30        27.53\n",
       "102      Mejor    39.92        47.24\n",
       "73       Mejor    29.02        32.56\n",
       "47       Mejor    55.46        68.63\n",
       "557      Mejor    13.35        13.42\n",
       "441      Mejor    17.60        18.83\n",
       "615      Mejor    76.53        86.81\n",
       "383      Mejor    56.75        63.01\n",
       "788      Mejor    13.12        15.42\n",
       "847      Mejor    35.82        36.50"
      ]
     },
     "execution_count": 23,
     "metadata": {},
     "output_type": "execute_result"
    }
   ],
   "source": [
    "res_cartera=cartera[['Prediction','Price_d','Price_d+180']]\n",
    "res_cartera"
   ]
  },
  {
   "cell_type": "code",
   "execution_count": 24,
   "metadata": {},
   "outputs": [],
   "source": [
    "def resultado(row):\n",
    "    if row['Prediction'] == 'Peor':\n",
    "        return (row['Price_d'] - row['Price_d+180'])/row['Price_d']\n",
    "    else:\n",
    "        return (row['Price_d+180'] - row['Price_d'])/row['Price_d']"
   ]
  },
  {
   "cell_type": "code",
   "execution_count": 25,
   "metadata": {},
   "outputs": [
    {
     "name": "stderr",
     "output_type": "stream",
     "text": [
      "/home/pipe/anaconda3/lib/python3.7/site-packages/ipykernel_launcher.py:2: SettingWithCopyWarning: \n",
      "A value is trying to be set on a copy of a slice from a DataFrame.\n",
      "Try using .loc[row_indexer,col_indexer] = value instead\n",
      "\n",
      "See the caveats in the documentation: https://pandas.pydata.org/pandas-docs/stable/user_guide/indexing.html#returning-a-view-versus-a-copy\n",
      "  \n"
     ]
    }
   ],
   "source": [
    "inversion = 1000\n",
    "res_cartera['Resultado']=res_cartera.apply(resultado,axis=1)*inversion"
   ]
  },
  {
   "cell_type": "code",
   "execution_count": 26,
   "metadata": {},
   "outputs": [
    {
     "data": {
      "text/html": [
       "<div>\n",
       "<style scoped>\n",
       "    .dataframe tbody tr th:only-of-type {\n",
       "        vertical-align: middle;\n",
       "    }\n",
       "\n",
       "    .dataframe tbody tr th {\n",
       "        vertical-align: top;\n",
       "    }\n",
       "\n",
       "    .dataframe thead th {\n",
       "        text-align: right;\n",
       "    }\n",
       "</style>\n",
       "<table border=\"1\" class=\"dataframe\">\n",
       "  <thead>\n",
       "    <tr style=\"text-align: right;\">\n",
       "      <th></th>\n",
       "      <th>Prediction</th>\n",
       "      <th>Price_d</th>\n",
       "      <th>Price_d+180</th>\n",
       "      <th>Resultado</th>\n",
       "    </tr>\n",
       "  </thead>\n",
       "  <tbody>\n",
       "    <tr>\n",
       "      <th>876</th>\n",
       "      <td>Peor</td>\n",
       "      <td>42.43</td>\n",
       "      <td>40.21</td>\n",
       "      <td>52.321471</td>\n",
       "    </tr>\n",
       "    <tr>\n",
       "      <th>160</th>\n",
       "      <td>Peor</td>\n",
       "      <td>15.52</td>\n",
       "      <td>19.46</td>\n",
       "      <td>-253.865979</td>\n",
       "    </tr>\n",
       "    <tr>\n",
       "      <th>218</th>\n",
       "      <td>Peor</td>\n",
       "      <td>10.41</td>\n",
       "      <td>10.72</td>\n",
       "      <td>-29.779059</td>\n",
       "    </tr>\n",
       "    <tr>\n",
       "      <th>905</th>\n",
       "      <td>Peor</td>\n",
       "      <td>28.15</td>\n",
       "      <td>29.58</td>\n",
       "      <td>-50.799290</td>\n",
       "    </tr>\n",
       "    <tr>\n",
       "      <th>470</th>\n",
       "      <td>Peor</td>\n",
       "      <td>107.17</td>\n",
       "      <td>110.15</td>\n",
       "      <td>-27.806289</td>\n",
       "    </tr>\n",
       "    <tr>\n",
       "      <th>325</th>\n",
       "      <td>Peor</td>\n",
       "      <td>54.44</td>\n",
       "      <td>59.81</td>\n",
       "      <td>-98.640705</td>\n",
       "    </tr>\n",
       "    <tr>\n",
       "      <th>296</th>\n",
       "      <td>Peor</td>\n",
       "      <td>22.34</td>\n",
       "      <td>29.37</td>\n",
       "      <td>-314.682184</td>\n",
       "    </tr>\n",
       "    <tr>\n",
       "      <th>586</th>\n",
       "      <td>Peor</td>\n",
       "      <td>17.54</td>\n",
       "      <td>21.04</td>\n",
       "      <td>-199.543900</td>\n",
       "    </tr>\n",
       "    <tr>\n",
       "      <th>268</th>\n",
       "      <td>Peor</td>\n",
       "      <td>18.96</td>\n",
       "      <td>19.29</td>\n",
       "      <td>-17.405063</td>\n",
       "    </tr>\n",
       "    <tr>\n",
       "      <th>189</th>\n",
       "      <td>Peor</td>\n",
       "      <td>22.84</td>\n",
       "      <td>24.74</td>\n",
       "      <td>-83.187391</td>\n",
       "    </tr>\n",
       "    <tr>\n",
       "      <th>354</th>\n",
       "      <td>Mejor</td>\n",
       "      <td>23.30</td>\n",
       "      <td>27.53</td>\n",
       "      <td>181.545064</td>\n",
       "    </tr>\n",
       "    <tr>\n",
       "      <th>102</th>\n",
       "      <td>Mejor</td>\n",
       "      <td>39.92</td>\n",
       "      <td>47.24</td>\n",
       "      <td>183.366733</td>\n",
       "    </tr>\n",
       "    <tr>\n",
       "      <th>73</th>\n",
       "      <td>Mejor</td>\n",
       "      <td>29.02</td>\n",
       "      <td>32.56</td>\n",
       "      <td>121.984838</td>\n",
       "    </tr>\n",
       "    <tr>\n",
       "      <th>47</th>\n",
       "      <td>Mejor</td>\n",
       "      <td>55.46</td>\n",
       "      <td>68.63</td>\n",
       "      <td>237.468446</td>\n",
       "    </tr>\n",
       "    <tr>\n",
       "      <th>557</th>\n",
       "      <td>Mejor</td>\n",
       "      <td>13.35</td>\n",
       "      <td>13.42</td>\n",
       "      <td>5.243446</td>\n",
       "    </tr>\n",
       "    <tr>\n",
       "      <th>441</th>\n",
       "      <td>Mejor</td>\n",
       "      <td>17.60</td>\n",
       "      <td>18.83</td>\n",
       "      <td>69.886364</td>\n",
       "    </tr>\n",
       "    <tr>\n",
       "      <th>615</th>\n",
       "      <td>Mejor</td>\n",
       "      <td>76.53</td>\n",
       "      <td>86.81</td>\n",
       "      <td>134.326408</td>\n",
       "    </tr>\n",
       "    <tr>\n",
       "      <th>383</th>\n",
       "      <td>Mejor</td>\n",
       "      <td>56.75</td>\n",
       "      <td>63.01</td>\n",
       "      <td>110.308370</td>\n",
       "    </tr>\n",
       "    <tr>\n",
       "      <th>788</th>\n",
       "      <td>Mejor</td>\n",
       "      <td>13.12</td>\n",
       "      <td>15.42</td>\n",
       "      <td>175.304878</td>\n",
       "    </tr>\n",
       "    <tr>\n",
       "      <th>847</th>\n",
       "      <td>Mejor</td>\n",
       "      <td>35.82</td>\n",
       "      <td>36.50</td>\n",
       "      <td>18.983808</td>\n",
       "    </tr>\n",
       "  </tbody>\n",
       "</table>\n",
       "</div>"
      ],
      "text/plain": [
       "    Prediction  Price_d  Price_d+180   Resultado\n",
       "876       Peor    42.43        40.21   52.321471\n",
       "160       Peor    15.52        19.46 -253.865979\n",
       "218       Peor    10.41        10.72  -29.779059\n",
       "905       Peor    28.15        29.58  -50.799290\n",
       "470       Peor   107.17       110.15  -27.806289\n",
       "325       Peor    54.44        59.81  -98.640705\n",
       "296       Peor    22.34        29.37 -314.682184\n",
       "586       Peor    17.54        21.04 -199.543900\n",
       "268       Peor    18.96        19.29  -17.405063\n",
       "189       Peor    22.84        24.74  -83.187391\n",
       "354      Mejor    23.30        27.53  181.545064\n",
       "102      Mejor    39.92        47.24  183.366733\n",
       "73       Mejor    29.02        32.56  121.984838\n",
       "47       Mejor    55.46        68.63  237.468446\n",
       "557      Mejor    13.35        13.42    5.243446\n",
       "441      Mejor    17.60        18.83   69.886364\n",
       "615      Mejor    76.53        86.81  134.326408\n",
       "383      Mejor    56.75        63.01  110.308370\n",
       "788      Mejor    13.12        15.42  175.304878\n",
       "847      Mejor    35.82        36.50   18.983808"
      ]
     },
     "execution_count": 26,
     "metadata": {},
     "output_type": "execute_result"
    }
   ],
   "source": [
    "res_cartera"
   ]
  },
  {
   "cell_type": "code",
   "execution_count": 27,
   "metadata": {},
   "outputs": [
    {
     "data": {
      "text/plain": [
       "215.0299657157165"
      ]
     },
     "execution_count": 27,
     "metadata": {},
     "output_type": "execute_result"
    }
   ],
   "source": [
    "res_cartera.Resultado.sum()"
   ]
  },
  {
   "cell_type": "code",
   "execution_count": null,
   "metadata": {},
   "outputs": [],
   "source": []
  }
 ],
 "metadata": {
  "kernelspec": {
   "display_name": "Python 3",
   "language": "python",
   "name": "python3"
  },
  "language_info": {
   "codemirror_mode": {
    "name": "ipython",
    "version": 3
   },
   "file_extension": ".py",
   "mimetype": "text/x-python",
   "name": "python",
   "nbconvert_exporter": "python",
   "pygments_lexer": "ipython3",
   "version": "3.7.6"
  }
 },
 "nbformat": 4,
 "nbformat_minor": 4
}
