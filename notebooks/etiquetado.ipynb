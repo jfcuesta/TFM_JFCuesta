{
 "cells": [
  {
   "cell_type": "code",
   "execution_count": 2,
   "metadata": {},
   "outputs": [],
   "source": [
    "import pandas as pd\n",
    "import numpy as np\n",
    "import matplotlib.pyplot as plt"
   ]
  },
  {
   "cell_type": "markdown",
   "metadata": {},
   "source": [
    "### Índice y consideración sobre el precio"
   ]
  },
  {
   "cell_type": "markdown",
   "metadata": {},
   "source": [
    "Para nuestro análisis disponemos del campo 'Adj. Close', que se trata del precio de cierre descontando los efectos de acciones corporativas como pago de dividendos, splits, etc., ideal para un análisis a largo plazo como el nuestro.\n",
    "Para el etiquetado de nuestros registros, deberemos obtener un índice del sector bancario del tipo 'Total return', calculado también de forma que se excluyen los efectos de los pagos de dvidendos u otras acciones.\n",
    "Probamos con el Dow Jones U.S. Financials Index, obteniendo información histórica desde 2008 en Yahoo Finance https://finance.yahoo.com/quote/%5EDJUSFN/"
   ]
  },
  {
   "cell_type": "code",
   "execution_count": 2,
   "metadata": {},
   "outputs": [
    {
     "data": {
      "text/html": [
       "<div>\n",
       "<style scoped>\n",
       "    .dataframe tbody tr th:only-of-type {\n",
       "        vertical-align: middle;\n",
       "    }\n",
       "\n",
       "    .dataframe tbody tr th {\n",
       "        vertical-align: top;\n",
       "    }\n",
       "\n",
       "    .dataframe thead th {\n",
       "        text-align: right;\n",
       "    }\n",
       "</style>\n",
       "<table border=\"1\" class=\"dataframe\">\n",
       "  <thead>\n",
       "    <tr style=\"text-align: right;\">\n",
       "      <th></th>\n",
       "      <th>Open</th>\n",
       "      <th>High</th>\n",
       "      <th>Low</th>\n",
       "      <th>Close</th>\n",
       "      <th>Adj Close</th>\n",
       "      <th>Volume</th>\n",
       "    </tr>\n",
       "    <tr>\n",
       "      <th>Date</th>\n",
       "      <th></th>\n",
       "      <th></th>\n",
       "      <th></th>\n",
       "      <th></th>\n",
       "      <th></th>\n",
       "      <th></th>\n",
       "    </tr>\n",
       "  </thead>\n",
       "  <tbody>\n",
       "    <tr>\n",
       "      <th>2008-01-02</th>\n",
       "      <td>463.364014</td>\n",
       "      <td>463.364014</td>\n",
       "      <td>463.364014</td>\n",
       "      <td>463.364014</td>\n",
       "      <td>463.364014</td>\n",
       "      <td>0.0</td>\n",
       "    </tr>\n",
       "    <tr>\n",
       "      <th>2008-01-03</th>\n",
       "      <td>459.412994</td>\n",
       "      <td>459.412994</td>\n",
       "      <td>459.412994</td>\n",
       "      <td>459.412994</td>\n",
       "      <td>459.412994</td>\n",
       "      <td>0.0</td>\n",
       "    </tr>\n",
       "    <tr>\n",
       "      <th>2008-01-04</th>\n",
       "      <td>446.221008</td>\n",
       "      <td>446.221008</td>\n",
       "      <td>446.221008</td>\n",
       "      <td>446.221008</td>\n",
       "      <td>446.221008</td>\n",
       "      <td>0.0</td>\n",
       "    </tr>\n",
       "    <tr>\n",
       "      <th>2008-01-07</th>\n",
       "      <td>448.487000</td>\n",
       "      <td>448.487000</td>\n",
       "      <td>448.487000</td>\n",
       "      <td>448.487000</td>\n",
       "      <td>448.487000</td>\n",
       "      <td>0.0</td>\n",
       "    </tr>\n",
       "    <tr>\n",
       "      <th>2008-01-08</th>\n",
       "      <td>432.351013</td>\n",
       "      <td>432.351013</td>\n",
       "      <td>432.351013</td>\n",
       "      <td>432.351013</td>\n",
       "      <td>432.351013</td>\n",
       "      <td>0.0</td>\n",
       "    </tr>\n",
       "  </tbody>\n",
       "</table>\n",
       "</div>"
      ],
      "text/plain": [
       "                  Open        High         Low       Close   Adj Close  Volume\n",
       "Date                                                                          \n",
       "2008-01-02  463.364014  463.364014  463.364014  463.364014  463.364014     0.0\n",
       "2008-01-03  459.412994  459.412994  459.412994  459.412994  459.412994     0.0\n",
       "2008-01-04  446.221008  446.221008  446.221008  446.221008  446.221008     0.0\n",
       "2008-01-07  448.487000  448.487000  448.487000  448.487000  448.487000     0.0\n",
       "2008-01-08  432.351013  432.351013  432.351013  432.351013  432.351013     0.0"
      ]
     },
     "execution_count": 2,
     "metadata": {},
     "output_type": "execute_result"
    }
   ],
   "source": [
    "# Volcamos en un dataframe los datos obtenidos del índide\n",
    "bank_index = pd.read_csv('../datos/DJUSFN.csv', sep=',', index_col='Date')\n",
    "bank_index.head(5)"
   ]
  },
  {
   "cell_type": "code",
   "execution_count": 3,
   "metadata": {},
   "outputs": [
    {
     "data": {
      "text/plain": [
       "<matplotlib.axes._subplots.AxesSubplot at 0x7f86cd9c7bd0>"
      ]
     },
     "execution_count": 3,
     "metadata": {},
     "output_type": "execute_result"
    },
    {
     "data": {
      "image/png": "[encoded data removed]",
      "text/plain": [
       "<Figure size 432x288 with 1 Axes>"
      ]
     },
     "metadata": {
      "needs_background": "light"
     },
     "output_type": "display_data"
    }
   ],
   "source": [
    "bank_index['Adj Close'].plot()"
   ]
  },
  {
   "cell_type": "markdown",
   "metadata": {},
   "source": [
    "## Etiquetado"
   ]
  },
  {
   "cell_type": "markdown",
   "metadata": {},
   "source": [
    "En este momento disponemos de tres tablas diferentes:\n",
    "\n",
    "- mergedbalres\n",
    "- banks_cotiz\n",
    "- bank_index\n",
    "\n",
    "Para poder asignar a cada trimestre analizado la etiqueta adecuada debemos seguir los siguientes pasos:\n",
    "\n",
    "    1) Volcar el precio de Bank_index en la fecha de publicación de resultados en cada registro de mergedbalres\n",
    "    2) Volcar el precio de Bank_index en la fecha de publicación de resultados + 90 días en cada registro de mergedbalres\n",
    "    3) Volcar el precio de banks_cotiz para el Ticker correspondiente en la fecha de publicación de resultados en cada registro de mergedbalres\n",
    "    4) Volcar el precio de banks_cotiz para el Ticker correspondiente en la fecha de publicación de resultados + 90 días en cada registro de mergedbalres\n",
    "    5) Calcular en mergedbalres, para cada registro, la variación porcentual tanto del índice como del Ticker\n",
    "    6) Comparar ambas variaciones y asignar la etiqueta correspondiente: entre +1% y -1% 'neutro'; más de 1% a favor de Ticker 'mejor'; menos de -1% con respecto índice 'peor'."
   ]
  },
  {
   "cell_type": "markdown",
   "metadata": {},
   "source": [
    "### 1) Precio de Bank_index a mergedbalres en d (fecha de publicación)"
   ]
  },
  {
   "cell_type": "code",
   "execution_count": 3,
   "metadata": {},
   "outputs": [],
   "source": [
    "mergedbalres=pd.read_csv('../tablas/mergedbalres.csv', index_col='Ref')\n",
    "banks_cotiz = pd.read_csv('../datos/banks_cotiz.csv', sep=',', date_parser='Dates')"
   ]
  },
  {
   "cell_type": "code",
   "execution_count": null,
   "metadata": {},
   "outputs": [],
   "source": []
  }
 ],
 "metadata": {
  "kernelspec": {
   "display_name": "Python 3",
   "language": "python",
   "name": "python3"
  },
  "language_info": {
   "codemirror_mode": {
    "name": "ipython",
    "version": 3
   },
   "file_extension": ".py",
   "mimetype": "text/x-python",
   "name": "python",
   "nbconvert_exporter": "python",
   "pygments_lexer": "ipython3",
   "version": "3.7.6"
  }
 },
 "nbformat": 4,
 "nbformat_minor": 4
}
