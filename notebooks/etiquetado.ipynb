{
 "cells": [
  {
   "cell_type": "code",
   "execution_count": 1,
   "metadata": {},
   "outputs": [],
   "source": [
    "import pandas as pd\n",
    "import numpy as np\n",
    "import matplotlib.pyplot as plt\n",
    "from datetime import datetime"
   ]
  },
  {
   "cell_type": "markdown",
   "metadata": {},
   "source": [
    "### Índice y consideración sobre el precio"
   ]
  },
  {
   "cell_type": "markdown",
   "metadata": {},
   "source": [
    "Para nuestro análisis disponemos del campo 'Adj. Close', que se trata del precio de cierre descontando los efectos de acciones corporativas como pago de dividendos, splits, etc., ideal para un análisis a largo plazo como el nuestro.\n",
    "Para el etiquetado de nuestros registros, deberemos obtener un índice del sector bancario del tipo 'Total return', calculado también de forma que se excluyen los efectos de los pagos de dvidendos u otras acciones.\n",
    "Probamos con el Dow Jones U.S. Financials Index, obteniendo información histórica desde 2008 en Yahoo Finance https://finance.yahoo.com/quote/%5EDJUSFN/"
   ]
  },
  {
   "cell_type": "code",
   "execution_count": 2,
   "metadata": {},
   "outputs": [],
   "source": [
    "# Volcamos en un dataframe los datos obtenidos del índide\n",
    "bank_index = pd.read_csv('../datos/banks_index.csv')\n",
    "bank_index['Date']=pd.to_datetime(bank_index['Date'], format=\"%Y-%m-%d\")"
   ]
  },
  {
   "cell_type": "code",
   "execution_count": 3,
   "metadata": {},
   "outputs": [
    {
     "data": {
      "image/png": "[encoded data removed]",
      "text/plain": [
       "<Figure size 432x288 with 1 Axes>"
      ]
     },
     "metadata": {
      "needs_background": "light"
     },
     "output_type": "display_data"
    }
   ],
   "source": [
    "bank_index['DJUSF'].plot();"
   ]
  },
  {
   "cell_type": "markdown",
   "metadata": {},
   "source": [
    "## Etiquetado"
   ]
  },
  {
   "cell_type": "markdown",
   "metadata": {},
   "source": [
    "En este momento disponemos de tres tablas diferentes:\n",
    "\n",
    "- mergedbalres\n",
    "- banks_cotiz\n",
    "- bank_index\n",
    "\n",
    "Para poder asignar a cada trimestre analizado la etiqueta adecuada debemos seguir los siguientes pasos:\n",
    "\n",
    "    1) Volcar el precio desde banks_cotiz en la fecha de publicación de resultados en cada registro de mergedbalres.\n",
    "    2) Volcar el precio desde banks_cotiz en la fecha de publicación de resultados + 90 días en cada registro de mergedbalres.\n",
    "    3) Volcar el precio desde Bank_index para el Ticker correspondiente en la fecha de publicación de resultados en cada registro de mergedbalres.\n",
    "    4) Volcar el precio desde Bank_index para el Ticker correspondiente en la fecha de publicación de resultados + 90 días en cada registro de mergedbalres.\n",
    "    5) Calcular en mergedbalres, para cada registro, la variación porcentual tanto del índice como del Ticker.\n",
    "    6) Comparar ambas variaciones y asignar la etiqueta correspondiente: entre +1% y -1% 'neutro'; más de 1% a favor de Ticker 'mejor'; menos de -1% con respecto índice 'peor'."
   ]
  },
  {
   "cell_type": "markdown",
   "metadata": {},
   "source": [
    "### 1) Precio de Bank_cotiz a mergedbalres en d (fecha de publicación)"
   ]
  },
  {
   "cell_type": "code",
   "execution_count": 4,
   "metadata": {},
   "outputs": [],
   "source": [
    "mergedbalres = pd.read_csv('../tablas/mergedbalres.csv', index_col='Ref')\n",
    "banks_cotiz = pd.read_csv('../datos/banks_cotiz.csv', sep=',', date_parser='Dates', usecols=('Ticker', 'Date', 'Adj. Close'))"
   ]
  },
  {
   "cell_type": "code",
   "execution_count": 5,
   "metadata": {
    "scrolled": true
   },
   "outputs": [
    {
     "data": {
      "text/html": [
       "<div>\n",
       "<style scoped>\n",
       "    .dataframe tbody tr th:only-of-type {\n",
       "        vertical-align: middle;\n",
       "    }\n",
       "\n",
       "    .dataframe tbody tr th {\n",
       "        vertical-align: top;\n",
       "    }\n",
       "\n",
       "    .dataframe thead th {\n",
       "        text-align: right;\n",
       "    }\n",
       "</style>\n",
       "<table border=\"1\" class=\"dataframe\">\n",
       "  <thead>\n",
       "    <tr style=\"text-align: right;\">\n",
       "      <th></th>\n",
       "      <th>Ticker</th>\n",
       "      <th>Date</th>\n",
       "      <th>Adj. Close</th>\n",
       "    </tr>\n",
       "  </thead>\n",
       "  <tbody>\n",
       "    <tr>\n",
       "      <th>0</th>\n",
       "      <td>WFC</td>\n",
       "      <td>2007-01-03</td>\n",
       "      <td>24.12</td>\n",
       "    </tr>\n",
       "    <tr>\n",
       "      <th>1</th>\n",
       "      <td>WFC</td>\n",
       "      <td>2007-01-04</td>\n",
       "      <td>24.16</td>\n",
       "    </tr>\n",
       "  </tbody>\n",
       "</table>\n",
       "</div>"
      ],
      "text/plain": [
       "  Ticker        Date  Adj. Close\n",
       "0    WFC  2007-01-03       24.12\n",
       "1    WFC  2007-01-04       24.16"
      ]
     },
     "execution_count": 5,
     "metadata": {},
     "output_type": "execute_result"
    }
   ],
   "source": [
    "banks_cotiz.head(2)"
   ]
  },
  {
   "cell_type": "code",
   "execution_count": 6,
   "metadata": {},
   "outputs": [],
   "source": [
    "# Incorporamos el campo 'Adj. Close' a la tabla mergedbalres con la función merged\n",
    "mergedbalres_with_prices = mergedbalres.merge(banks_cotiz, \n",
    "                                              left_on=('Ticker','Publish Date'),\n",
    "                                              right_on=('Ticker','Date'), \n",
    "                                              how='left')\n",
    "mergedbalres_with_prices.drop('Date', axis=1, inplace=True)"
   ]
  },
  {
   "cell_type": "code",
   "execution_count": 7,
   "metadata": {},
   "outputs": [
    {
     "data": {
      "text/html": [
       "<div>\n",
       "<style scoped>\n",
       "    .dataframe tbody tr th:only-of-type {\n",
       "        vertical-align: middle;\n",
       "    }\n",
       "\n",
       "    .dataframe tbody tr th {\n",
       "        vertical-align: top;\n",
       "    }\n",
       "\n",
       "    .dataframe thead th {\n",
       "        text-align: right;\n",
       "    }\n",
       "</style>\n",
       "<table border=\"1\" class=\"dataframe\">\n",
       "  <thead>\n",
       "    <tr style=\"text-align: right;\">\n",
       "      <th></th>\n",
       "      <th>Ticker</th>\n",
       "      <th>SimFinId</th>\n",
       "      <th>Currency</th>\n",
       "      <th>Fiscal Year</th>\n",
       "      <th>Fiscal Period</th>\n",
       "      <th>Report Date</th>\n",
       "      <th>Publish Date</th>\n",
       "      <th>Restated Date</th>\n",
       "      <th>Shares (Basic)</th>\n",
       "      <th>Shares (Diluted)</th>\n",
       "      <th>...</th>\n",
       "      <th>Total Non-Interest Expense</th>\n",
       "      <th>Operating Income (Loss)</th>\n",
       "      <th>Non-Operating Income (Loss)</th>\n",
       "      <th>Pretax Income (Loss)</th>\n",
       "      <th>Income Tax (Expense) Benefit, Net</th>\n",
       "      <th>Income (Loss) from Continuing Operations</th>\n",
       "      <th>Net Extraordinary Gains (Losses)</th>\n",
       "      <th>Net Income</th>\n",
       "      <th>Net Income (Common)</th>\n",
       "      <th>Price_d</th>\n",
       "    </tr>\n",
       "  </thead>\n",
       "  <tbody>\n",
       "    <tr>\n",
       "      <th>0</th>\n",
       "      <td>BAC</td>\n",
       "      <td>71941</td>\n",
       "      <td>USD</td>\n",
       "      <td>2011</td>\n",
       "      <td>Q3</td>\n",
       "      <td>2011-09-30</td>\n",
       "      <td>2011-11-03</td>\n",
       "      <td>2011-11-03</td>\n",
       "      <td>1.011628e+10</td>\n",
       "      <td>1.046440e+10</td>\n",
       "      <td>...</td>\n",
       "      <td>-17437000000</td>\n",
       "      <td>7609000000</td>\n",
       "      <td>NaN</td>\n",
       "      <td>7433000000</td>\n",
       "      <td>-1.201000e+09</td>\n",
       "      <td>6232000000</td>\n",
       "      <td>NaN</td>\n",
       "      <td>6232000000</td>\n",
       "      <td>5889000000</td>\n",
       "      <td>6.17</td>\n",
       "    </tr>\n",
       "    <tr>\n",
       "      <th>1</th>\n",
       "      <td>BAC</td>\n",
       "      <td>71941</td>\n",
       "      <td>USD</td>\n",
       "      <td>2011</td>\n",
       "      <td>Q4</td>\n",
       "      <td>2011-12-31</td>\n",
       "      <td>2012-02-23</td>\n",
       "      <td>2013-02-28</td>\n",
       "      <td>1.028341e+10</td>\n",
       "      <td>1.027862e+10</td>\n",
       "      <td>...</td>\n",
       "      <td>-18840000000</td>\n",
       "      <td>3114000000</td>\n",
       "      <td>NaN</td>\n",
       "      <td>2432000000</td>\n",
       "      <td>-4.410000e+08</td>\n",
       "      <td>1991000000</td>\n",
       "      <td>NaN</td>\n",
       "      <td>1991000000</td>\n",
       "      <td>1584000000</td>\n",
       "      <td>7.17</td>\n",
       "    </tr>\n",
       "    <tr>\n",
       "      <th>2</th>\n",
       "      <td>BAC</td>\n",
       "      <td>71941</td>\n",
       "      <td>USD</td>\n",
       "      <td>2012</td>\n",
       "      <td>Q1</td>\n",
       "      <td>2012-03-31</td>\n",
       "      <td>2012-05-03</td>\n",
       "      <td>2012-05-03</td>\n",
       "      <td>1.065137e+10</td>\n",
       "      <td>1.076192e+10</td>\n",
       "      <td>...</td>\n",
       "      <td>-19141000000</td>\n",
       "      <td>719000000</td>\n",
       "      <td>NaN</td>\n",
       "      <td>719000000</td>\n",
       "      <td>-6.600000e+07</td>\n",
       "      <td>653000000</td>\n",
       "      <td>NaN</td>\n",
       "      <td>653000000</td>\n",
       "      <td>328000000</td>\n",
       "      <td>7.16</td>\n",
       "    </tr>\n",
       "    <tr>\n",
       "      <th>3</th>\n",
       "      <td>BAC</td>\n",
       "      <td>71941</td>\n",
       "      <td>USD</td>\n",
       "      <td>2012</td>\n",
       "      <td>Q2</td>\n",
       "      <td>2012-06-30</td>\n",
       "      <td>2012-08-02</td>\n",
       "      <td>2012-08-02</td>\n",
       "      <td>1.077570e+10</td>\n",
       "      <td>1.155601e+10</td>\n",
       "      <td>...</td>\n",
       "      <td>-17048000000</td>\n",
       "      <td>3147000000</td>\n",
       "      <td>NaN</td>\n",
       "      <td>3147000000</td>\n",
       "      <td>-6.840000e+08</td>\n",
       "      <td>2463000000</td>\n",
       "      <td>NaN</td>\n",
       "      <td>2463000000</td>\n",
       "      <td>2098000000</td>\n",
       "      <td>6.44</td>\n",
       "    </tr>\n",
       "    <tr>\n",
       "      <th>4</th>\n",
       "      <td>BAC</td>\n",
       "      <td>71941</td>\n",
       "      <td>USD</td>\n",
       "      <td>2012</td>\n",
       "      <td>Q3</td>\n",
       "      <td>2012-09-30</td>\n",
       "      <td>2012-11-02</td>\n",
       "      <td>2012-11-02</td>\n",
       "      <td>1.077617e+10</td>\n",
       "      <td>1.077617e+10</td>\n",
       "      <td>...</td>\n",
       "      <td>-17544000000</td>\n",
       "      <td>1110000000</td>\n",
       "      <td>NaN</td>\n",
       "      <td>1110000000</td>\n",
       "      <td>-7.700000e+08</td>\n",
       "      <td>340000000</td>\n",
       "      <td>NaN</td>\n",
       "      <td>340000000</td>\n",
       "      <td>-33000000</td>\n",
       "      <td>8.84</td>\n",
       "    </tr>\n",
       "  </tbody>\n",
       "</table>\n",
       "<p>5 rows × 40 columns</p>\n",
       "</div>"
      ],
      "text/plain": [
       "  Ticker  SimFinId Currency  Fiscal Year Fiscal Period Report Date  \\\n",
       "0    BAC     71941      USD         2011            Q3  2011-09-30   \n",
       "1    BAC     71941      USD         2011            Q4  2011-12-31   \n",
       "2    BAC     71941      USD         2012            Q1  2012-03-31   \n",
       "3    BAC     71941      USD         2012            Q2  2012-06-30   \n",
       "4    BAC     71941      USD         2012            Q3  2012-09-30   \n",
       "\n",
       "  Publish Date Restated Date  Shares (Basic)  Shares (Diluted)  ...  \\\n",
       "0   2011-11-03    2011-11-03    1.011628e+10      1.046440e+10  ...   \n",
       "1   2012-02-23    2013-02-28    1.028341e+10      1.027862e+10  ...   \n",
       "2   2012-05-03    2012-05-03    1.065137e+10      1.076192e+10  ...   \n",
       "3   2012-08-02    2012-08-02    1.077570e+10      1.155601e+10  ...   \n",
       "4   2012-11-02    2012-11-02    1.077617e+10      1.077617e+10  ...   \n",
       "\n",
       "   Total Non-Interest Expense  Operating Income (Loss)  \\\n",
       "0                -17437000000               7609000000   \n",
       "1                -18840000000               3114000000   \n",
       "2                -19141000000                719000000   \n",
       "3                -17048000000               3147000000   \n",
       "4                -17544000000               1110000000   \n",
       "\n",
       "   Non-Operating Income (Loss)  Pretax Income (Loss)  \\\n",
       "0                          NaN            7433000000   \n",
       "1                          NaN            2432000000   \n",
       "2                          NaN             719000000   \n",
       "3                          NaN            3147000000   \n",
       "4                          NaN            1110000000   \n",
       "\n",
       "   Income Tax (Expense) Benefit, Net  \\\n",
       "0                      -1.201000e+09   \n",
       "1                      -4.410000e+08   \n",
       "2                      -6.600000e+07   \n",
       "3                      -6.840000e+08   \n",
       "4                      -7.700000e+08   \n",
       "\n",
       "   Income (Loss) from Continuing Operations  Net Extraordinary Gains (Losses)  \\\n",
       "0                                6232000000                               NaN   \n",
       "1                                1991000000                               NaN   \n",
       "2                                 653000000                               NaN   \n",
       "3                                2463000000                               NaN   \n",
       "4                                 340000000                               NaN   \n",
       "\n",
       "   Net Income  Net Income (Common)  Price_d  \n",
       "0  6232000000           5889000000     6.17  \n",
       "1  1991000000           1584000000     7.17  \n",
       "2   653000000            328000000     7.16  \n",
       "3  2463000000           2098000000     6.44  \n",
       "4   340000000            -33000000     8.84  \n",
       "\n",
       "[5 rows x 40 columns]"
      ]
     },
     "execution_count": 7,
     "metadata": {},
     "output_type": "execute_result"
    }
   ],
   "source": [
    "# Cambiamos el nombre del campo 'Adj. Close' para referirnos claramente al precio en el día inicial del periodo\n",
    "mergedbalres_with_prices.rename(columns={'Adj. Close':'Price_d'}, inplace=True)\n",
    "mergedbalres_with_prices.head(5)"
   ]
  },
  {
   "cell_type": "markdown",
   "metadata": {},
   "source": [
    "### 2) Precio de Bank_cotiz a mergedbalres en d+90"
   ]
  },
  {
   "cell_type": "code",
   "execution_count": 8,
   "metadata": {},
   "outputs": [],
   "source": [
    "from datetime import timedelta"
   ]
  },
  {
   "cell_type": "code",
   "execution_count": 9,
   "metadata": {},
   "outputs": [],
   "source": [
    "#Transformamos los campos de fechas a Timestamp, para poder añadirle los 90 días del periodo\n",
    "\n",
    "mergedbalres_with_prices['Publish Date']=pd.to_datetime(mergedbalres_with_prices['Publish Date'],\n",
    "                                                        format=\"%Y-%m-%d\")\n",
    "\n",
    "banks_cotiz['Date']=pd.to_datetime(banks_cotiz['Date'], format=\"%Y-%m-%d\")\n",
    "\n",
    "mergedbalres_with_prices['Publish_Date+90']=mergedbalres_with_prices['Publish Date'] + timedelta(days=90)"
   ]
  },
  {
   "cell_type": "code",
   "execution_count": 10,
   "metadata": {},
   "outputs": [],
   "source": [
    "#Cruzamos ambas tablas\n",
    "\n",
    "mergedbalres_with_prices = mergedbalres_with_prices.merge(banks_cotiz, \n",
    "                                                          left_on=('Ticker','Publish_Date+90'),\n",
    "                                                          right_on=('Ticker','Date'), \n",
    "                                                          how='left')\n",
    "\n",
    "mergedbalres_with_prices.drop('Date', axis=1, inplace=True)\n",
    "\n",
    "# Cambiamos el nombre del campo 'Adj. Close' para referirnos al precio en el día final del periodo\n",
    "\n",
    "mergedbalres_with_prices.rename(columns={'Adj. Close':'Price_d+90'}, inplace=True)"
   ]
  },
  {
   "cell_type": "markdown",
   "metadata": {},
   "source": [
    "### 3) Precio de Bank_index a mergedbalres en d (fecha de publicación)"
   ]
  },
  {
   "cell_type": "code",
   "execution_count": 11,
   "metadata": {},
   "outputs": [],
   "source": [
    "# Incorporamos el campo 'DJUSF a la tabla mergedbalres_with_prices con la función merged\n",
    "mergedbalres_with_prices = mergedbalres_with_prices.merge(bank_index, \n",
    "                                              left_on=('Publish Date'),\n",
    "                                              right_on=('Date'), \n",
    "                                              how='left')\n",
    "mergedbalres_with_prices.drop('Date', axis=1, inplace=True)\n",
    "mergedbalres_with_prices.rename(columns={'DJUSF':'DJUSF_d'}, inplace=True)"
   ]
  },
  {
   "cell_type": "markdown",
   "metadata": {},
   "source": [
    "### 4) Precio de Bank_index a mergedbalres en d+90 (fecha de publicación)"
   ]
  },
  {
   "cell_type": "code",
   "execution_count": 12,
   "metadata": {},
   "outputs": [],
   "source": [
    "#Cruzamos los precios de Bank Index con la fecha d+90\n",
    "\n",
    "mergedbalres_with_prices = mergedbalres_with_prices.merge(bank_index, \n",
    "                                                          left_on=('Publish_Date+90'),\n",
    "                                                          right_on=('Date'), \n",
    "                                                          how='left')\n",
    "\n",
    "mergedbalres_with_prices.drop('Date', axis=1, inplace=True)\n",
    "\n",
    "# Cambiamos el nombre del campo DJUSF para referirnos al valor del índice en el día final del periodo\n",
    "\n",
    "mergedbalres_with_prices.rename(columns={'DJUSF':'DJUSF_d+90'}, inplace=True)"
   ]
  },
  {
   "cell_type": "markdown",
   "metadata": {},
   "source": [
    "### 5) Calcular en mergedbalres, para cada registro, la variación porcentual tanto del índice como del Ticker."
   ]
  },
  {
   "cell_type": "code",
   "execution_count": 13,
   "metadata": {},
   "outputs": [],
   "source": [
    "mergedbalres_with_prices['Var_cotiz']=(mergedbalres_with_prices['Price_d+90']-mergedbalres_with_prices['Price_d'])/mergedbalres_with_prices['Price_d']\n",
    "mergedbalres_with_prices['Var_index']=(mergedbalres_with_prices['DJUSF_d+90']-mergedbalres_with_prices['DJUSF_d'])/mergedbalres_with_prices['DJUSF_d']"
   ]
  },
  {
   "cell_type": "markdown",
   "metadata": {},
   "source": [
    "### 6) Comparar ambas variaciones y asignar la etiqueta correspondiente: entre +1% y -1% 'neutro'; más de 1% a favor de Ticker 'mejor'; menos de -1% con respecto índice 'peor'."
   ]
  },
  {
   "cell_type": "code",
   "execution_count": 14,
   "metadata": {},
   "outputs": [],
   "source": [
    "def etiquetado(row):\n",
    "    limite = 0.02\n",
    "    dif = row['Var_cotiz'] - row['Var_index']\n",
    "    if dif > limite:\n",
    "        return 'Mejor'\n",
    "    elif dif < -limite:\n",
    "        return 'Peor'\n",
    "    else:\n",
    "        return 'Neutral'"
   ]
  },
  {
   "cell_type": "code",
   "execution_count": 15,
   "metadata": {},
   "outputs": [],
   "source": [
    "mergedbalres_with_prices['Etiqueta']=mergedbalres_with_prices.apply(etiquetado,axis=1)"
   ]
  },
  {
   "cell_type": "code",
   "execution_count": 16,
   "metadata": {
    "scrolled": false
   },
   "outputs": [
    {
     "data": {
      "text/html": [
       "<div>\n",
       "<style scoped>\n",
       "    .dataframe tbody tr th:only-of-type {\n",
       "        vertical-align: middle;\n",
       "    }\n",
       "\n",
       "    .dataframe tbody tr th {\n",
       "        vertical-align: top;\n",
       "    }\n",
       "\n",
       "    .dataframe thead th {\n",
       "        text-align: right;\n",
       "    }\n",
       "</style>\n",
       "<table border=\"1\" class=\"dataframe\">\n",
       "  <thead>\n",
       "    <tr style=\"text-align: right;\">\n",
       "      <th></th>\n",
       "      <th>Ticker</th>\n",
       "      <th>SimFinId</th>\n",
       "      <th>Currency</th>\n",
       "      <th>Fiscal Year</th>\n",
       "      <th>Fiscal Period</th>\n",
       "      <th>Report Date</th>\n",
       "      <th>Publish Date</th>\n",
       "      <th>Restated Date</th>\n",
       "      <th>Shares (Basic)</th>\n",
       "      <th>Shares (Diluted)</th>\n",
       "      <th>...</th>\n",
       "      <th>Net Income</th>\n",
       "      <th>Net Income (Common)</th>\n",
       "      <th>Price_d</th>\n",
       "      <th>Publish_Date+90</th>\n",
       "      <th>Price_d+90</th>\n",
       "      <th>DJUSF_d</th>\n",
       "      <th>DJUSF_d+90</th>\n",
       "      <th>Var_cotiz</th>\n",
       "      <th>Var_index</th>\n",
       "      <th>Etiqueta</th>\n",
       "    </tr>\n",
       "  </thead>\n",
       "  <tbody>\n",
       "    <tr>\n",
       "      <th>0</th>\n",
       "      <td>BAC</td>\n",
       "      <td>71941</td>\n",
       "      <td>USD</td>\n",
       "      <td>2011</td>\n",
       "      <td>Q3</td>\n",
       "      <td>2011-09-30</td>\n",
       "      <td>2011-11-03</td>\n",
       "      <td>2011-11-03</td>\n",
       "      <td>1.011628e+10</td>\n",
       "      <td>1.046440e+10</td>\n",
       "      <td>...</td>\n",
       "      <td>6232000000</td>\n",
       "      <td>5889000000</td>\n",
       "      <td>6.17</td>\n",
       "      <td>2012-02-01</td>\n",
       "      <td>6.58</td>\n",
       "      <td>250.201996</td>\n",
       "      <td>266.403015</td>\n",
       "      <td>0.066451</td>\n",
       "      <td>0.064752</td>\n",
       "      <td>Neutral</td>\n",
       "    </tr>\n",
       "    <tr>\n",
       "      <th>1</th>\n",
       "      <td>BAC</td>\n",
       "      <td>71941</td>\n",
       "      <td>USD</td>\n",
       "      <td>2011</td>\n",
       "      <td>Q4</td>\n",
       "      <td>2011-12-31</td>\n",
       "      <td>2012-02-23</td>\n",
       "      <td>2013-02-28</td>\n",
       "      <td>1.028341e+10</td>\n",
       "      <td>1.027862e+10</td>\n",
       "      <td>...</td>\n",
       "      <td>1991000000</td>\n",
       "      <td>1584000000</td>\n",
       "      <td>7.17</td>\n",
       "      <td>2012-05-23</td>\n",
       "      <td>6.42</td>\n",
       "      <td>274.470001</td>\n",
       "      <td>264.872986</td>\n",
       "      <td>-0.104603</td>\n",
       "      <td>-0.034966</td>\n",
       "      <td>Peor</td>\n",
       "    </tr>\n",
       "    <tr>\n",
       "      <th>2</th>\n",
       "      <td>BAC</td>\n",
       "      <td>71941</td>\n",
       "      <td>USD</td>\n",
       "      <td>2012</td>\n",
       "      <td>Q1</td>\n",
       "      <td>2012-03-31</td>\n",
       "      <td>2012-05-03</td>\n",
       "      <td>2012-05-03</td>\n",
       "      <td>1.065137e+10</td>\n",
       "      <td>1.076192e+10</td>\n",
       "      <td>...</td>\n",
       "      <td>653000000</td>\n",
       "      <td>328000000</td>\n",
       "      <td>7.16</td>\n",
       "      <td>2012-08-01</td>\n",
       "      <td>6.47</td>\n",
       "      <td>285.774994</td>\n",
       "      <td>274.437012</td>\n",
       "      <td>-0.096369</td>\n",
       "      <td>-0.039675</td>\n",
       "      <td>Peor</td>\n",
       "    </tr>\n",
       "    <tr>\n",
       "      <th>3</th>\n",
       "      <td>BAC</td>\n",
       "      <td>71941</td>\n",
       "      <td>USD</td>\n",
       "      <td>2012</td>\n",
       "      <td>Q2</td>\n",
       "      <td>2012-06-30</td>\n",
       "      <td>2012-08-02</td>\n",
       "      <td>2012-08-02</td>\n",
       "      <td>1.077570e+10</td>\n",
       "      <td>1.155601e+10</td>\n",
       "      <td>...</td>\n",
       "      <td>2463000000</td>\n",
       "      <td>2098000000</td>\n",
       "      <td>6.44</td>\n",
       "      <td>2012-10-31</td>\n",
       "      <td>8.36</td>\n",
       "      <td>272.450012</td>\n",
       "      <td>294.502014</td>\n",
       "      <td>0.298137</td>\n",
       "      <td>0.080940</td>\n",
       "      <td>Mejor</td>\n",
       "    </tr>\n",
       "    <tr>\n",
       "      <th>4</th>\n",
       "      <td>BAC</td>\n",
       "      <td>71941</td>\n",
       "      <td>USD</td>\n",
       "      <td>2012</td>\n",
       "      <td>Q3</td>\n",
       "      <td>2012-09-30</td>\n",
       "      <td>2012-11-02</td>\n",
       "      <td>2012-11-02</td>\n",
       "      <td>1.077617e+10</td>\n",
       "      <td>1.077617e+10</td>\n",
       "      <td>...</td>\n",
       "      <td>340000000</td>\n",
       "      <td>-33000000</td>\n",
       "      <td>8.84</td>\n",
       "      <td>2013-01-31</td>\n",
       "      <td>10.17</td>\n",
       "      <td>296.191986</td>\n",
       "      <td>321.622986</td>\n",
       "      <td>0.150452</td>\n",
       "      <td>0.085860</td>\n",
       "      <td>Mejor</td>\n",
       "    </tr>\n",
       "  </tbody>\n",
       "</table>\n",
       "<p>5 rows × 47 columns</p>\n",
       "</div>"
      ],
      "text/plain": [
       "  Ticker  SimFinId Currency  Fiscal Year Fiscal Period Report Date  \\\n",
       "0    BAC     71941      USD         2011            Q3  2011-09-30   \n",
       "1    BAC     71941      USD         2011            Q4  2011-12-31   \n",
       "2    BAC     71941      USD         2012            Q1  2012-03-31   \n",
       "3    BAC     71941      USD         2012            Q2  2012-06-30   \n",
       "4    BAC     71941      USD         2012            Q3  2012-09-30   \n",
       "\n",
       "  Publish Date Restated Date  Shares (Basic)  Shares (Diluted)  ...  \\\n",
       "0   2011-11-03    2011-11-03    1.011628e+10      1.046440e+10  ...   \n",
       "1   2012-02-23    2013-02-28    1.028341e+10      1.027862e+10  ...   \n",
       "2   2012-05-03    2012-05-03    1.065137e+10      1.076192e+10  ...   \n",
       "3   2012-08-02    2012-08-02    1.077570e+10      1.155601e+10  ...   \n",
       "4   2012-11-02    2012-11-02    1.077617e+10      1.077617e+10  ...   \n",
       "\n",
       "   Net Income  Net Income (Common)  Price_d  Publish_Date+90  Price_d+90  \\\n",
       "0  6232000000           5889000000     6.17       2012-02-01        6.58   \n",
       "1  1991000000           1584000000     7.17       2012-05-23        6.42   \n",
       "2   653000000            328000000     7.16       2012-08-01        6.47   \n",
       "3  2463000000           2098000000     6.44       2012-10-31        8.36   \n",
       "4   340000000            -33000000     8.84       2013-01-31       10.17   \n",
       "\n",
       "      DJUSF_d  DJUSF_d+90  Var_cotiz  Var_index  Etiqueta  \n",
       "0  250.201996  266.403015   0.066451   0.064752   Neutral  \n",
       "1  274.470001  264.872986  -0.104603  -0.034966      Peor  \n",
       "2  285.774994  274.437012  -0.096369  -0.039675      Peor  \n",
       "3  272.450012  294.502014   0.298137   0.080940     Mejor  \n",
       "4  296.191986  321.622986   0.150452   0.085860     Mejor  \n",
       "\n",
       "[5 rows x 47 columns]"
      ]
     },
     "execution_count": 16,
     "metadata": {},
     "output_type": "execute_result"
    }
   ],
   "source": [
    "mergedbalres_with_prices.head(5)"
   ]
  },
  {
   "cell_type": "markdown",
   "metadata": {},
   "source": [
    "Por último, guardamos la tabla obtenida"
   ]
  },
  {
   "cell_type": "code",
   "execution_count": 18,
   "metadata": {},
   "outputs": [],
   "source": [
    "mergedbalres_with_prices.to_csv('../tablas/registros_etiq.csv', index=False)"
   ]
  }
 ],
 "metadata": {
  "kernelspec": {
   "display_name": "Python 3",
   "language": "python",
   "name": "python3"
  },
  "language_info": {
   "codemirror_mode": {
    "name": "ipython",
    "version": 3
   },
   "file_extension": ".py",
   "mimetype": "text/x-python",
   "name": "python",
   "nbconvert_exporter": "python",
   "pygments_lexer": "ipython3",
   "version": "3.7.6"
  }
 },
 "nbformat": 4,
 "nbformat_minor": 4
}
